{
  "nbformat": 4,
  "nbformat_minor": 0,
  "metadata": {
    "colab": {
      "name": "FinalCV.ipynb",
      "provenance": [],
      "collapsed_sections": [],
      "toc_visible": true,
      "machine_shape": "hm"
    },
    "kernelspec": {
      "name": "python3",
      "display_name": "Python 3"
    },
    "accelerator": "GPU"
  },
  "cells": [
    {
      "cell_type": "markdown",
      "metadata": {
        "id": "Mh4PAn0yA6Wu"
      },
      "source": [
        "# In the name of Deep Learning"
      ]
    },
    {
      "cell_type": "code",
      "metadata": {
        "id": "0dqDdskbs0Wx",
        "outputId": "87c89c5f-a96e-47f5-d6f7-c47beffaea15",
        "colab": {
          "base_uri": "https://localhost:8080/",
          "height": 156
        }
      },
      "source": [
        "#Standard Imports\n",
        "import os\n",
        "import cv2\n",
        "import numpy as np\n",
        "import itertools\n",
        "import seaborn as sns\n",
        "import matplotlib.pyplot as plt\n",
        "\n",
        "#Colab imports\n",
        "from google.colab.patches import cv2_imshow\n",
        "from google.colab import drive\n",
        "drive.mount('/content/gdrive', force_remount=True)\n",
        "\n",
        "#For printing purposes\n",
        "class COLOR:\n",
        "   PURPLE = '\\033[95m'\n",
        "   CYAN = '\\033[96m'\n",
        "   DARKCYAN = '\\033[36m'\n",
        "   BLUE = '\\033[94m'\n",
        "   GREEN = '\\033[92m'\n",
        "   YELLOW = '\\033[93m'\n",
        "   RED = '\\033[91m'\n",
        "   BOLD = '\\033[1m'\n",
        "   UNDERLINE = '\\033[4m'\n",
        "   END = '\\033[0m'\n",
        "\n",
        "#Import for printing nicely formatted tables\n",
        "from prettytable import PrettyTable   "
      ],
      "execution_count": null,
      "outputs": [
        {
          "output_type": "stream",
          "text": [
            "/usr/local/lib/python3.6/dist-packages/statsmodels/tools/_testing.py:19: FutureWarning: pandas.util.testing is deprecated. Use the functions in the public API at pandas.testing instead.\n",
            "  import pandas.util.testing as tm\n"
          ],
          "name": "stderr"
        },
        {
          "output_type": "stream",
          "text": [
            "Go to this URL in a browser: https://accounts.google.com/o/oauth2/auth?client_id=947318989803-6bn6qk8qdgf4n4g3pfee6491hc0brc4i.apps.googleusercontent.com&redirect_uri=urn%3aietf%3awg%3aoauth%3a2.0%3aoob&response_type=code&scope=email%20https%3a%2f%2fwww.googleapis.com%2fauth%2fdocs.test%20https%3a%2f%2fwww.googleapis.com%2fauth%2fdrive%20https%3a%2f%2fwww.googleapis.com%2fauth%2fdrive.photos.readonly%20https%3a%2f%2fwww.googleapis.com%2fauth%2fpeopleapi.readonly\n",
            "\n",
            "Enter your authorization code:\n",
            "··········\n",
            "Mounted at /content/gdrive\n"
          ],
          "name": "stdout"
        }
      ]
    },
    {
      "cell_type": "markdown",
      "metadata": {
        "id": "7OsXGu47ZLIR"
      },
      "source": [
        "#  2) Getting the Data ready"
      ]
    },
    {
      "cell_type": "markdown",
      "metadata": {
        "id": "9Zk8I57jhjs7"
      },
      "source": [
        "## Imports for the section"
      ]
    },
    {
      "cell_type": "code",
      "metadata": {
        "id": "GKmcDOeegk_E",
        "outputId": "25f8401d-c81c-4d9f-fdec-0ccc3a098591",
        "colab": {
          "base_uri": "https://localhost:8080/",
          "height": 34
        }
      },
      "source": [
        "#For image preprocessing\n",
        "from keras.preprocessing.image import img_to_array\n",
        "from keras.applications import imagenet_utils\n",
        "from keras.preprocessing.image import load_img\n",
        "\n",
        "#For XML parsing\n",
        "import xml.etree.ElementTree as ET\n",
        "\n",
        "#Basic housekeeping for preprocessing\n",
        "from PIL import ImageFile\n",
        "ImageFile.LOAD_TRUNCATED_IMAGES = True  "
      ],
      "execution_count": null,
      "outputs": [
        {
          "output_type": "stream",
          "text": [
            "Using TensorFlow backend.\n"
          ],
          "name": "stderr"
        }
      ]
    },
    {
      "cell_type": "markdown",
      "metadata": {
        "id": "U9e0FMgbBBOC"
      },
      "source": [
        "First, we download the PASCAL VOC-2009 dataset, which houses the images and annotations for classification + segmentation."
      ]
    },
    {
      "cell_type": "code",
      "metadata": {
        "id": "l3011nqQEhnx",
        "outputId": "d54206d2-27f7-4c47-b694-305d9cf35936",
        "colab": {
          "base_uri": "https://localhost:8080/",
          "height": 221
        }
      },
      "source": [
        "#Download and extract the dataset\n",
        "!wget -nc http://host.robots.ox.ac.uk/pascal/VOC/voc2009/VOCtrainval_11-May-2009.tar\n",
        "!tar -xf VOCtrainval_11-May-2009.tar --totals"
      ],
      "execution_count": null,
      "outputs": [
        {
          "output_type": "stream",
          "text": [
            "--2020-06-01 18:03:44--  http://host.robots.ox.ac.uk/pascal/VOC/voc2009/VOCtrainval_11-May-2009.tar\n",
            "Resolving host.robots.ox.ac.uk (host.robots.ox.ac.uk)... 129.67.94.152\n",
            "Connecting to host.robots.ox.ac.uk (host.robots.ox.ac.uk)|129.67.94.152|:80... connected.\n",
            "HTTP request sent, awaiting response... 200 OK\n",
            "Length: 935534080 (892M) [application/x-tar]\n",
            "Saving to: ‘VOCtrainval_11-May-2009.tar’\n",
            "\n",
            "VOCtrainval_11-May- 100%[===================>] 892.19M  12.4MB/s    in 75s     \n",
            "\n",
            "2020-06-01 18:05:00 (11.8 MB/s) - ‘VOCtrainval_11-May-2009.tar’ saved [935534080/935534080]\n",
            "\n",
            "Total bytes read: 935536640 (893MiB, 277MiB/s)\n"
          ],
          "name": "stdout"
        }
      ]
    },
    {
      "cell_type": "code",
      "metadata": {
        "id": "KEf789YLNlf5"
      },
      "source": [
        "#Save the root folder directory path to a variable\n",
        "voc_root_folder = \"/content/VOCdevkit/VOC2009\"\n",
        "voc_img_folder = os.path.join(voc_root_folder, \"JPEGImages\")\n",
        "voc_seg_img_folder = os.path.join(voc_root_folder, \"SegmentationClass\")\n",
        "voc_xml_folder = os.path.join(voc_root_folder,\"Annotations\")\n",
        "voc_classify_folder = os.path.join(voc_root_folder,\"ImageSets\",\"Main\")\n",
        "voc_segment_folder = os.path.join(voc_root_folder,\"ImageSets\",\"Segmentation\")"
      ],
      "execution_count": null,
      "outputs": []
    },
    {
      "cell_type": "markdown",
      "metadata": {
        "id": "uNXVnO6CRgcU"
      },
      "source": [
        "##Preprocessing & Other Utility Functions"
      ]
    },
    {
      "cell_type": "markdown",
      "metadata": {
        "id": "GQAHsSkGfavh"
      },
      "source": [
        "Before we proceed to generate the input dataset and labels for both tasks, we need a utility function, which returns the paths to all relevant files (e.g. XML, images etc.) in a given directory, as a list.\n",
        "\n",
        "During function call, we also pass a tuple of extensions, which represent the type of files that our function should return."
      ]
    },
    {
      "cell_type": "code",
      "metadata": {
        "id": "vEcol0cCgYT1"
      },
      "source": [
        "def list_files(base_path, valid_exts=None):\n",
        "    #Return the list of paths for valid files\n",
        "    #Get the full list of filenames\n",
        "    (root_dir, _, filenames) = next(os.walk(base_path))\n",
        "    \n",
        "    #Loop over all filenames in the current directory\n",
        "    for filename in filenames:\n",
        "      \n",
        "        #Determine the file extension of the current file\n",
        "        ext = os.path.splitext(filename)[-1].lower()\n",
        "\n",
        "        # check to see if the extension is what we are looking for\n",
        "        if (valid_exts is None) or (ext in valid_exts):\n",
        "\n",
        "            # construct the path to the image and yield it\n",
        "            file_path = os.path.join(root_dir, filename)\n",
        "            yield file_path"
      ],
      "execution_count": null,
      "outputs": []
    },
    {
      "cell_type": "markdown",
      "metadata": {
        "id": "UiAQG3Bqra-9"
      },
      "source": [
        "Finally, we conclude housekeeping by defining the main utility function to parse a PASCAL VOC annotation XML file, perform a variety of image preprocessing one-after-the-other and return all the objects present inside the image associated with it.\n",
        "\n",
        "The following operations will be executed:\n",
        "\n",
        "1.   Resizing the image\n",
        "2.   Mean Subtraction to normalize the RGB pixel intensities\n",
        "3.   Converting image to an array that Keras can work with"
      ]
    },
    {
      "cell_type": "code",
      "metadata": {
        "id": "04azZJKNrvc6"
      },
      "source": [
        "def read_content(xml_file, task=\"classification\"):\n",
        "    #Initialize the parse tree and start @ root node\n",
        "    tree = ET.parse(xml_file)\n",
        "    root = tree.getroot()\n",
        "    \n",
        "    #Find the filename from the parse tree & get the image\n",
        "    filename = root.find('filename').text    \n",
        "    img = load_img(os.path.join(voc_img_folder, filename), target_size=(224,224))\n",
        "    img = img_to_array(img)\n",
        "    #img = np.expand_dims(img, axis=0)\n",
        "    img = imagenet_utils.preprocess_input(img)\n",
        "    \n",
        "    #Initialize the target label as 1x20 array\n",
        "    target = np.zeros(shape=(20,),dtype=\"int8\")\n",
        "\n",
        "    #Iterate through all the objects\n",
        "    for object_el in root.iter('object'):\n",
        "        \n",
        "        #Find corresponding index & increment by 1, except if it is already one\n",
        "        object_name = object_el.find('name').text\n",
        "        index = class_list.index(object_name)\n",
        "        if not(target[index]):\n",
        "            target[index] += 1\n",
        "\n",
        "    #For classification, just return the image and target label\n",
        "    #For segmentation, return the image, mask and target label\n",
        "    if task == \"classification\":\n",
        "      return (img, target)\n",
        "    else:\n",
        "      filename = filename.split(\".\")[0] + \".png\"\n",
        "      mask = cv2.imread(os.path.join(voc_seg_img_folder, filename))\n",
        "\n",
        "      #Do we need to set the mask to [0, 1] as well?      \n",
        "      return (img, target, cv2.resize(mask, (224, 224)))      \n",
        "    \n",
        "    \"\"\"\n",
        "    OLDER CODE: Before we had to use the train, test provided by PASCAL VOC\n",
        "    #Initialize segmentation task indicator to False\n",
        "    #By default, image is not selected for the segmentation task\n",
        "    i = False\n",
        "    \n",
        "    #Initialize the parse tree and start @ root node\n",
        "    tree = ET.parse(xml_file)\n",
        "    root = tree.getroot()\n",
        "\n",
        "    #Find the filename from the parse tree & get the image\n",
        "    filename = root.find('filename').text    \n",
        "    img = cv2.imread(os.path.join(voc_img_folder, filename))\n",
        "    \n",
        "    #Should the image be added to the segmentation task dataset?\n",
        "    if filename.split(\".\")[0] in seg_names:\n",
        "        i = True\n",
        "\n",
        "    #Initialize the list of objects as 1x20 array\n",
        "    object_list = np.zeros(shape=(20,),dtype=\"int8\")\n",
        "\n",
        "    #Iterate through all the objects\n",
        "    for object_el in root.iter('object'):\n",
        "        \n",
        "        #Find corresponding index & increment by 1, except if it is already one\n",
        "        object_name = object_el.find('name').text\n",
        "        index = class_list.index(object_name)\n",
        "        if not(object_list[index]):\n",
        "            object_list[index] += 1\n",
        "                                \n",
        "    return img, object_list, i\n",
        "    \"\"\""
      ],
      "execution_count": null,
      "outputs": []
    },
    {
      "cell_type": "markdown",
      "metadata": {
        "id": "ljDjrDU7rhRZ"
      },
      "source": [
        "## 2.1) Data for classification & segmentation"
      ]
    },
    {
      "cell_type": "markdown",
      "metadata": {
        "id": "pFzHjPtxtNs_"
      },
      "source": [
        "Now, we generate the input dataset and their target labels from the PASCAL VOC-2009 dataset for the 2 tasks."
      ]
    },
    {
      "cell_type": "code",
      "metadata": {
        "id": "wmFqC6En4nAS",
        "outputId": "9cb223bc-7406-4bf7-c829-c87062854e66",
        "colab": {
          "base_uri": "https://localhost:8080/",
          "height": 527
        }
      },
      "source": [
        "#List of all PASCAL classes\n",
        "class_list = [\"aeroplane\", \"bicycle\", \"bird\", \"boat\", \"bottle\", \n",
        "            \"bus\", \"car\", \"cat\", \"chair\",\"cow\", \"diningtable\", \n",
        "            \"dog\", \"horse\", \"motorbike\", \"person\", \"pottedplant\", \"sheep\",\"sofa\",\"train\",\n",
        "            \"tvmonitor\"]\n",
        "\n",
        "#CLASSIFICATION: Initialize (1) dataset & (2) target labels for both train & validation sets\n",
        "classify_trainX = []\n",
        "classify_trainY = []\n",
        "classify_valX = []\n",
        "classify_valY = []\n",
        "\n",
        "#SEGMENTATION: Initialize (1) dataset, (2) mask and (3) target labels for both train & validation sets\n",
        "segment_train_frames = []\n",
        "segment_train_mask = []\n",
        "segment_train_labels = []\n",
        "segment_val_frames = []\n",
        "segment_val_mask = []\n",
        "segment_val_labels = []\n",
        "\n",
        "#Obtain the filenames of the images in train & val of classification\n",
        "with open(os.path.join(voc_classify_folder,\"train.txt\"),'r') as file:\n",
        "    classify_train_list = [line.strip() for line in file]\n",
        "with open(os.path.join(voc_classify_folder,\"val.txt\"),'r') as file:\n",
        "    classify_val_list = [line.strip() for line in file]\n",
        "\n",
        "\n",
        "#Obtain the filenames of the images in train & val of segmentation\n",
        "with open(os.path.join(voc_segment_folder,\"train.txt\"),'r') as file:\n",
        "    segment_train_list = [line.strip() for line in file]\n",
        "with open(os.path.join(voc_segment_folder,\"val.txt\"),'r') as file:\n",
        "    segment_val_list = [line.strip() for line in file]\n",
        "\n",
        "\n",
        "#Building the dataset for classification\n",
        "#Creating a utility dictionary for looping and building train & validation sets\n",
        "utility_dict = {\n",
        "    'Training Set': [classify_train_list, classify_trainX, classify_trainY ],\n",
        "    'Validation Set': [classify_val_list, classify_valX, classify_valY],\n",
        "}\n",
        "\n",
        "print(\"[INFO] GENERATING DATASET FOR \" + COLOR.BOLD + \"CLASSIFICATION TEST\" + COLOR.END)\n",
        "for key, items in utility_dict.items():\n",
        "  #Initialize a counter to display updates\n",
        "  counter = 0\n",
        "\n",
        "  for img_name in items[0]:\n",
        "    (img, target) = read_content(os.path.join(voc_xml_folder, img_name + \".xml\"))\n",
        "    items[1].append(img)\n",
        "    items[2].append(target)\n",
        "    counter += 1\n",
        "\n",
        "    #Print a status update every 500 images\n",
        "    if not(counter%500) or not(counter - 1) or counter == len(items[0]):\n",
        "        print(\"[INFO] \"+ COLOR.BOLD +\"Image #{:d}/{:d} \".format(counter, len(items[0])) + COLOR.END \n",
        "              +\"added to {}\".format(key))\n",
        "        \"\"\"\n",
        "        #Convert the object list into a list of boolean values\n",
        "        #Pass into array to get the filtered class list for display\n",
        "        bool_list = list(map(bool, target))\n",
        "        filtered_list = list(itertools.compress(class_list, bool_list))\n",
        "\n",
        "        print(\"[INFO] \"+ COLOR.BOLD +\"Image #{:d}\".format(counter) + COLOR.END + \n",
        "              \" target labels: {l}\".format(l=filtered_list))\n",
        "        #cv2_imshow(img) - No need to show: It's rescaled now\n",
        "        print()\n",
        "        \"\"\"\n",
        "\n",
        "#Building the dataset for segmentation - Same procedure as before\n",
        "utility_dict_seg = {\n",
        "    'Training Set': [segment_train_list, segment_train_frames, segment_train_mask, segment_train_labels],\n",
        "    'Validation Set': [segment_val_list, segment_val_frames, segment_val_mask, segment_val_labels],\n",
        "}\n",
        "\n",
        "print(\"\\n[INFO] GENERATING DATASET FOR \" + COLOR.BOLD + \"SEGMENTATION TEST\"+ COLOR.END)\n",
        "for key, items in utility_dict_seg.items():\n",
        "  \n",
        "  #Initialize a counter to display updates\n",
        "  counter = 0\n",
        "\n",
        "  for img_name in items[0]:\n",
        "    (img, target, mask) = read_content(\n",
        "        os.path.join(voc_xml_folder, img_name + \".xml\"), task=\"segmentation\")\n",
        "    items[1].append(img)\n",
        "    items[2].append(target)\n",
        "    items[3].append(mask)\n",
        "    counter += 1\n",
        "\n",
        "    #Print a status update every 200 images\n",
        "    if not(counter%200) or not(counter - 1) or counter == len(items[0]):\n",
        "        print(\"[INFO] \"+ COLOR.BOLD +\"Image #{:d}/{:d} \".format(counter, len(items[0])) + COLOR.END \n",
        "              +\"added to {}\".format(key))\n",
        "        \"\"\"\n",
        "        #Convert the object list into a list of boolean values\n",
        "        #Pass into array to get the filtered class list for display\n",
        "        bool_list = list(map(bool, target))\n",
        "        filtered_list = list(itertools.compress(class_list, bool_list))\n",
        "\n",
        "        print(\"[INFO] \"+ COLOR.BOLD +\"Image #{:d}\".format(counter) + COLOR.END + \n",
        "              \" target labels: {l}\".format(l=filtered_list))\n",
        "        #cv2_imshow(np.hstack((img, mask))) : No need to show now, it's all rescaled\n",
        "        print()\n",
        "        \n",
        "\n",
        "print(\"\\n[INFO] \"+ COLOR.BOLD +\"CLASSIFICATION: {:d} images\".format(len(classify_trainX)) + COLOR.END \n",
        "      +\" added to Training Set and \" + COLOR.BOLD + \"{:d} images\".format(len(classify_valX)) + COLOR.END\n",
        "      +\" added to Validation Set.\")\n",
        "\n",
        "print(\"[INFO] \"+ COLOR.BOLD +\"SEGMENTATION: {:d} images\".format(len(segment_train_frames)) + COLOR.END \n",
        "      +\" added to Training Set and \" + COLOR.BOLD + \"{:d} images\".format(len(segment_val_frames)) + COLOR.END\n",
        "      +\" added to Validation Set.\")\n",
        "\"\"\"\n",
        "#Converting the lists into arrays\n",
        "trainX = np.array(classify_trainX)\n",
        "trainY = np.array(classify_trainY)\n",
        "valX = np.array(classify_valX)\n",
        "valY = np.array(classify_valY)\n",
        "\n",
        "#Deleting lists & other vars to free up memory - We have the arrays now\n",
        "del classify_trainX\n",
        "del classify_trainY\n",
        "del classify_train_list\n",
        "del classify_valX\n",
        "del classify_valY\n",
        "del classify_val_list\n",
        "\n",
        "#SHOULD ARRAY CONVERSION + DELETE BE DONE FOR SEGMENTATION AS WELL?\n",
        "\n",
        "#Delete the utility dictionaries to free up memory\n",
        "del utility_dict\n",
        "del utility_dict_seg"
      ],
      "execution_count": null,
      "outputs": [
        {
          "output_type": "stream",
          "text": [
            "[INFO] GENERATING DATASET FOR \u001b[1mCLASSIFICATION TEST\u001b[0m\n",
            "[INFO] \u001b[1mImage #1/3473 \u001b[0madded to Training Set\n",
            "[INFO] \u001b[1mImage #500/3473 \u001b[0madded to Training Set\n",
            "[INFO] \u001b[1mImage #1000/3473 \u001b[0madded to Training Set\n",
            "[INFO] \u001b[1mImage #1500/3473 \u001b[0madded to Training Set\n",
            "[INFO] \u001b[1mImage #2000/3473 \u001b[0madded to Training Set\n",
            "[INFO] \u001b[1mImage #2500/3473 \u001b[0madded to Training Set\n",
            "[INFO] \u001b[1mImage #3000/3473 \u001b[0madded to Training Set\n",
            "[INFO] \u001b[1mImage #3473/3473 \u001b[0madded to Training Set\n",
            "[INFO] \u001b[1mImage #1/3581 \u001b[0madded to Validation Set\n",
            "[INFO] \u001b[1mImage #500/3581 \u001b[0madded to Validation Set\n",
            "[INFO] \u001b[1mImage #1000/3581 \u001b[0madded to Validation Set\n",
            "[INFO] \u001b[1mImage #1500/3581 \u001b[0madded to Validation Set\n",
            "[INFO] \u001b[1mImage #2000/3581 \u001b[0madded to Validation Set\n",
            "[INFO] \u001b[1mImage #2500/3581 \u001b[0madded to Validation Set\n",
            "[INFO] \u001b[1mImage #3000/3581 \u001b[0madded to Validation Set\n",
            "[INFO] \u001b[1mImage #3500/3581 \u001b[0madded to Validation Set\n",
            "[INFO] \u001b[1mImage #3581/3581 \u001b[0madded to Validation Set\n",
            "\n",
            "[INFO] GENERATING DATASET FOR \u001b[1mSEGMENTATION TEST\u001b[0m\n",
            "[INFO] \u001b[1mImage #1/749 \u001b[0madded to Training Set\n",
            "[INFO] \u001b[1mImage #200/749 \u001b[0madded to Training Set\n",
            "[INFO] \u001b[1mImage #400/749 \u001b[0madded to Training Set\n",
            "[INFO] \u001b[1mImage #600/749 \u001b[0madded to Training Set\n",
            "[INFO] \u001b[1mImage #749/749 \u001b[0madded to Training Set\n",
            "[INFO] \u001b[1mImage #1/750 \u001b[0madded to Validation Set\n",
            "[INFO] \u001b[1mImage #200/750 \u001b[0madded to Validation Set\n",
            "[INFO] \u001b[1mImage #400/750 \u001b[0madded to Validation Set\n",
            "[INFO] \u001b[1mImage #600/750 \u001b[0madded to Validation Set\n",
            "[INFO] \u001b[1mImage #750/750 \u001b[0madded to Validation Set\n"
          ],
          "name": "stdout"
        }
      ]
    },
    {
      "cell_type": "code",
      "metadata": {
        "id": "ERXGRPCzDeXF",
        "outputId": "4e7e8f6c-03f7-441c-c444-13d1c030762d",
        "colab": {
          "base_uri": "https://localhost:8080/",
          "height": 54
        }
      },
      "source": [
        "\"\"\"\n",
        "ORIGINAL CODE: Not using the train-valid splits as before\n",
        "#Intialize\n",
        "data = []\n",
        "labels = []\n",
        "counter = 0\n",
        "\n",
        "#Obtain filenames of all images for segmentation task\n",
        "seg_paths = list(list_files(voc_seg_img_folder,(\".png\")))\n",
        "seg_names = [os.path.splitext(path)[0].split(os.path.sep)[-1] for path in seg_paths]\n",
        "\n",
        "#Iterate over XML file paths and get data + object collection\n",
        "print(\"[INFO] GENERATING DATASET FOR \" + COLOR.BOLD + \"CLASSIFICATION TEST\"+ COLOR.END)\n",
        "for xml_path in list_files(os.path.join(voc_root_folder,\"Annotations\"), (\".xml\")):\n",
        "\n",
        "    #Parse xml file and retrieve image + labels along with indicator\n",
        "    #about whether image should be in segmentation task\n",
        "    (img, object_list, seg_indicator)  =  read_content(xml_path)\n",
        "    \n",
        "    data.append(img)\n",
        "    labels.append(object_list)\n",
        "    \n",
        "    #Add image index to segmentation task consideration list if required\n",
        "    if seg_indicator:\n",
        "        seg_task_indices.append(counter)\n",
        "    \n",
        "    counter += 1\n",
        "    \n",
        "    #Print a status update every 500 images\n",
        "    if not(counter%500) or not(counter - 1):\n",
        "        print(\"[INFO] \"+ COLOR.BOLD +\"Image #{:d} \".format(counter) + COLOR.END \n",
        "              +\"added to input dataset\")\n",
        "        \n",
        "        #Convert the object list into a list of boolean values\n",
        "        #Pass into array to get the filtered class list for display\n",
        "        bool_list = list(map(bool, object_list))\n",
        "        filtered_list = list(compress(class_list, bool_list))\n",
        "\n",
        "        print(\"[INFO] \"+ COLOR.BOLD +\"Image #{:d}\".format(counter) + COLOR.END + \n",
        "              \" target labels: {l}\".format(l=filtered_list))\n",
        "        cv2_imshow(img)\n",
        "        print()\n",
        "    \n",
        "print(\"[INFO] \"+ COLOR.BOLD +\"{:d} images\".format(counter) + COLOR.END \n",
        "      +\" added to classification test dataset\")\n",
        "print(\"[INFO] \"+ COLOR.BOLD +\"{:d} images\".format(len(seg_task_indices)) + \n",
        "      COLOR.END +\" added to segmentation test dataset\")\n",
        "\"\"\""
      ],
      "execution_count": null,
      "outputs": [
        {
          "output_type": "execute_result",
          "data": {
            "text/plain": [
              "'\\nORIGINAL CODE: Not using the train-valid splits as before\\n#Intialize\\ndata = []\\nlabels = []\\ncounter = 0\\n\\n#Obtain filenames of all images for segmentation task\\nseg_paths = list(list_files(voc_seg_img_folder,(\".png\")))\\nseg_names = [os.path.splitext(path)[0].split(os.path.sep)[-1] for path in seg_paths]\\n\\n#Iterate over XML file paths and get data + object collection\\nprint(\"[INFO] GENERATING DATASET FOR \" + COLOR.BOLD + \"CLASSIFICATION TEST\"+ COLOR.END)\\nfor xml_path in list_files(os.path.join(voc_root_folder,\"Annotations\"), (\".xml\")):\\n\\n    #Parse xml file and retrieve image + labels along with indicator\\n    #about whether image should be in segmentation task\\n    (img, object_list, seg_indicator)  =  read_content(xml_path)\\n    \\n    data.append(img)\\n    labels.append(object_list)\\n    \\n    #Add image index to segmentation task consideration list if required\\n    if seg_indicator:\\n        seg_task_indices.append(counter)\\n    \\n    counter += 1\\n    \\n    #Print a status update every 500 images\\n    if not(counter%500) or not(counter - 1):\\n        print(\"[INFO] \"+ COLOR.BOLD +\"Image #{:d} \".format(counter) + COLOR.END \\n              +\"added to input dataset\")\\n        \\n        #Convert the object list into a list of boolean values\\n        #Pass into array to get the filtered class list for display\\n        bool_list = list(map(bool, object_list))\\n        filtered_list = list(compress(class_list, bool_list))\\n\\n        print(\"[INFO] \"+ COLOR.BOLD +\"Image #{:d}\".format(counter) + COLOR.END + \\n              \" target labels: {l}\".format(l=filtered_list))\\n        cv2_imshow(img)\\n        print()\\n    \\nprint(\"[INFO] \"+ COLOR.BOLD +\"{:d} images\".format(counter) + COLOR.END \\n      +\" added to classification test dataset\")\\nprint(\"[INFO] \"+ COLOR.BOLD +\"{:d} images\".format(len(seg_task_indices)) + \\n      COLOR.END +\" added to segmentation test dataset\")\\n'"
            ]
          },
          "metadata": {
            "tags": []
          },
          "execution_count": 8
        }
      ]
    },
    {
      "cell_type": "markdown",
      "metadata": {
        "id": "6pqiqLoVX3oU"
      },
      "source": [
        "## 2.2) Exploratory Data Analysis\n",
        "\n",
        "Since each datapoint can have multiple labels, we conduct a EDA to explore the distribution of assigned target classes and possible class imbalances."
      ]
    },
    {
      "cell_type": "code",
      "metadata": {
        "id": "lsa6uHjCWg-d",
        "outputId": "d7e7e99c-e88f-49d6-f203-4c594997ca15",
        "colab": {
          "base_uri": "https://localhost:8080/",
          "height": 823
        }
      },
      "source": [
        "#Count the number of times a particular class label appears in the\n",
        "#training and validation set of the classification task\n",
        "count_train = np.sum((trainY), axis=0)\n",
        "count_val = np.sum((valY), axis=0)\n",
        "\n",
        "#Create a plot of class label vs number of occurrences for the training set\n",
        "sns.set(font_scale = 1)\n",
        "plt.figure(figsize=(20,8))\n",
        "ax = sns.barplot(class_list, count_train)\n",
        "\n",
        "plt.title(\"Training Set: Target Class Distribution\", fontsize=20)\n",
        "plt.ylabel('Number of occurrences', fontsize=12)\n",
        "plt.xlabel('Target Class ', fontsize=12)\n",
        "\n",
        "#adding the text labels\n",
        "rects = ax.patches\n",
        "labels = count_train\n",
        "for rect, label in zip(rects, labels):\n",
        "    height = rect.get_height()\n",
        "    ax.text(rect.get_x() + rect.get_width()/2, height + 5, label, ha='center', va='bottom', fontsize=18)\n",
        "plt.show()\n",
        "\n",
        "#Create a plot of class label vs number of occurrences for the validation set\n",
        "sns.set(font_scale = 1)\n",
        "plt.figure(figsize=(20,8))\n",
        "ax= sns.barplot(class_list, count_val)\n",
        "\n",
        "plt.title(\"Validation Set: Target Class Distribution\", fontsize=20)\n",
        "plt.ylabel('Number of occurrences', fontsize=12)\n",
        "plt.xlabel('Target Class ', fontsize=12)\n",
        "\n",
        "#adding the text labels\n",
        "rects = ax.patches\n",
        "labels = count_val\n",
        "for rect, label in zip(rects, labels):\n",
        "    height = rect.get_height()\n",
        "    ax.text(rect.get_x() + rect.get_width()/2, height + 5, label, ha='center', va='bottom', fontsize=18)\n",
        "plt.show()"
      ],
      "execution_count": null,
      "outputs": [
        {
          "output_type": "display_data",
          "data": {
            "image/png": "[encoded data removed]",
            "text/plain": [
              "<Figure size 1440x576 with 1 Axes>"
            ]
          },
          "metadata": {
            "tags": []
          }
        },
        {
          "output_type": "display_data",
          "data": {
            "image/png": "[encoded data removed]",
            "text/plain": [
              "<Figure size 1440x576 with 1 Axes>"
            ]
          },
          "metadata": {
            "tags": []
          }
        }
      ]
    },
    {
      "cell_type": "code",
      "metadata": {
        "id": "jUCo0gkTbKBg",
        "outputId": "69852436-3dba-48b2-b038-1db77a6cc13d",
        "colab": {
          "base_uri": "https://localhost:8080/",
          "height": 1000
        }
      },
      "source": [
        "#Plot how many images have multiple classes as target variable in training data\n",
        "rowSums = np.sum((trainY), axis=1)\n",
        "multiLabel_numbers, multiLabel_counts = np.unique(rowSums, return_counts=True)\n",
        "\n",
        "sns.set(font_scale = 1)\n",
        "plt.figure(figsize=(10,8))\n",
        "ax = sns.barplot(multiLabel_numbers, multiLabel_counts)\n",
        "plt.title(\"Training Images having multiple classes\", fontsize=20)\n",
        "plt.ylabel('Number of images', fontsize=12)\n",
        "plt.xlabel('Number of labels', fontsize=12)\n",
        "\n",
        "#adding the text labels\n",
        "rects = ax.patches\n",
        "labels = multiLabel_counts\n",
        "for rect, label in zip(rects, labels):\n",
        "    height = rect.get_height()\n",
        "    ax.text(rect.get_x() + rect.get_width()/2, height + 5, label, ha='center', va='bottom')\n",
        "plt.show()\n",
        "\n",
        "#Plot how many images have multiple classes as target variable in validation data\n",
        "rowSums = np.sum((valY), axis=1)\n",
        "multiLabel_numbers, multiLabel_counts = np.unique(rowSums, return_counts=True)\n",
        "\n",
        "sns.set(font_scale = 1)\n",
        "plt.figure(figsize=(10,8))\n",
        "ax = sns.barplot(multiLabel_numbers, multiLabel_counts)\n",
        "plt.title(\"Validation Images having multiple classes\", fontsize=20)\n",
        "plt.ylabel('Number of images', fontsize=12)\n",
        "plt.xlabel('Number of labels', fontsize=12)\n",
        "\n",
        "#adding the text labels\n",
        "rects = ax.patches\n",
        "labels = multiLabel_counts\n",
        "for rect, label in zip(rects, labels):\n",
        "    height = rect.get_height()\n",
        "    ax.text(rect.get_x() + rect.get_width()/2, height + 5, label, ha='center', va='bottom')\n",
        "plt.show()\n",
        "\n",
        "#Deleting unwanted variables to free up memory\n",
        "del count_train\n",
        "del count_val\n",
        "del rowSums\n",
        "del multiLabel_numbers\n",
        "del multiLabel_counts"
      ],
      "execution_count": null,
      "outputs": [
        {
          "output_type": "display_data",
          "data": {
            "image/png": "[encoded data removed]",
            "text/plain": [
              "<Figure size 720x576 with 1 Axes>"
            ]
          },
          "metadata": {
            "tags": []
          }
        },
        {
          "output_type": "display_data",
          "data": {
            "image/png": "[encoded data removed]",
            "text/plain": [
              "<Figure size 720x576 with 1 Axes>"
            ]
          },
          "metadata": {
            "tags": []
          }
        }
      ]
    },
    {
      "cell_type": "markdown",
      "metadata": {
        "id": "Y3MhmApdfMLJ"
      },
      "source": [
        "The EDA offers these insights, which need to be taken into consideration:\n",
        "\n",
        "\n",
        "1.   1 out of 20 classes — **person** — is heavily represented in both training & validation sets, appearing in **40%+** of the images.\n",
        "2.   5 classes appear roughly in **~8-12%** of the images.\n",
        "3.   2 classes — **cow** & **sheep** — appear in **<3%** of the images.\n",
        "4.   The remaining 12 classes occur in **~3-8%** of the images.\n",
        "5.   **~60%** images have only 1 class\n",
        "6. **~30%** images have 2 classes.\n",
        "7.   The remaining ~10% images is split between 3 to 6 classes.\n",
        "\n",
        "The next question to ask: For a given class, how much does it occur by itself? How often does it occur with other classes? If so, which ones?"
      ]
    },
    {
      "cell_type": "code",
      "metadata": {
        "id": "O0-Y9CCy5OSp",
        "outputId": "311a5377-f8c5-4b80-af16-6c2ac96d4a99",
        "colab": {
          "base_uri": "https://localhost:8080/",
          "height": 445
        }
      },
      "source": [
        "x = PrettyTable()\n",
        "x.field_names = ['Class', 'Alone','Total', *class_list]\n",
        "\n",
        "#Initialize a numpy matrix that stores these co-occurrences from the training set\n",
        "co_occur_matrix = np.zeros(shape=(20, 20))\n",
        "\n",
        "#Iterate over each class - calculate the number of times the class occurs by \n",
        "#itself and with other classes - update the relevant counter\n",
        "for i in range(20):\n",
        "\n",
        "  #Select only the outputs where the class occurs\n",
        "  mask = trainY[:,i] == 1\n",
        "  co_occur_matrix[i,:] = np.sum(trainY[mask, :], axis=0)\n",
        "\n",
        "  #Update the spot in the co-occurence matrix where class occurs with itself\n",
        "  mask_2 = np.ones(20, dtype=bool)\n",
        "  mask_2[i] = False\n",
        "  co_occur_matrix[i, i] = np.sum(np.invert(np.any(((trainY[mask, :])[:,mask_2]),axis=1)))\n",
        "  \n",
        "  x.add_row([class_list[i],\n",
        "             str(np.round(co_occur_matrix[i, i] * 100 / np.sum(trainY[mask, :],axis=0)[i] , 2))+\"%\", \n",
        "             np.sum(trainY[mask, :], axis=0)[i],\n",
        "             *list(co_occur_matrix[i,:]), ])\n",
        "\n",
        "#Display the table\n",
        "print(x)\n",
        "\n",
        "#Delete the table to free up memory\n",
        "del x"
      ],
      "execution_count": null,
      "outputs": [
        {
          "output_type": "stream",
          "text": [
            "+-------------+--------+-------+-----------+---------+-------+-------+--------+------+-------+-------+-------+------+-------------+-------+-------+-----------+--------+-------------+-------+------+-------+-----------+\n",
            "|    Class    | Alone  | Total | aeroplane | bicycle |  bird |  boat | bottle | bus  |  car  |  cat  | chair | cow  | diningtable |  dog  | horse | motorbike | person | pottedplant | sheep | sofa | train | tvmonitor |\n",
            "+-------------+--------+-------+-----------+---------+-------+-------+--------+------+-------+-------+-------+------+-------------+-------+-------+-----------+--------+-------------+-------+------+-------+-----------+\n",
            "|  aeroplane  | 85.07% |  201  |   171.0   |   0.0   |  0.0  |  2.0  |  0.0   | 1.0  |  10.0 |  0.0  |  0.0  | 0.0  |     0.0     |  0.0  |  0.0  |    0.0    |  22.0  |     0.0     |  0.0  | 0.0  |  0.0  |    0.0    |\n",
            "|   bicycle   | 27.17% |  173  |    0.0    |   47.0  |  0.0  |  3.0  |  7.0   | 7.0  |  29.0 |  1.0  |  4.0  | 1.0  |     1.0     |  1.0  |  0.0  |    7.0    | 103.0  |     7.0     |  0.0  | 2.0  |  1.0  |    2.0    |\n",
            "|     bird    | 92.05% |  264  |    0.0    |   0.0   | 243.0 |  2.0  |  0.0   | 0.0  |  1.0  |  0.0  |  2.0  | 0.0  |     0.0     |  3.0  |  0.0  |    0.0    |  15.0  |     2.0     |  1.0  | 0.0  |  0.0  |    1.0    |\n",
            "|     boat    | 59.54% |  173  |    2.0    |   3.0   |  2.0  | 103.0 |  0.0   | 1.0  |  9.0  |  0.0  |  0.0  | 0.0  |     0.0     |  1.0  |  0.0  |    2.0    |  60.0  |     1.0     |  0.0  | 0.0  |  0.0  |    1.0    |\n",
            "|    bottle   | 23.11% |  238  |    0.0    |   7.0   |  0.0  |  0.0  |  55.0  | 0.0  |  5.0  |  6.0  |  53.0 | 0.0  |     57.0    |  12.0 |  2.0  |    2.0    | 134.0  |     18.0    |  0.0  | 20.0 |  0.0  |    27.0   |\n",
            "|     bus     | 30.15% |  136  |    1.0    |   7.0   |  0.0  |  1.0  |  0.0   | 41.0 |  58.0 |  0.0  |  0.0  | 0.0  |     0.0     |  0.0  |  1.0  |    5.0    |  67.0  |     2.0     |  0.0  | 0.0  |  1.0  |    0.0    |\n",
            "|     car     | 36.72% |  384  |    10.0   |   29.0  |  1.0  |  9.0  |  5.0   | 58.0 | 141.0 |  2.0  |  7.0  | 3.0  |     1.0     |  12.0 |  3.0  |    34.0   | 171.0  |     9.0     |  2.0  | 0.0  |  9.0  |    1.0    |\n",
            "|     cat     | 73.68% |  266  |    0.0    |   1.0   |  0.0  |  0.0  |  6.0   | 0.0  |  2.0  | 196.0 |  13.0 | 0.0  |     4.0     |  10.0 |  0.0  |    0.0    |  21.0  |     10.0    |  1.0  | 17.0 |  0.0  |    6.0    |\n",
            "|    chair    | 16.22% |  370  |    0.0    |   4.0   |  2.0  |  0.0  |  53.0  | 0.0  |  7.0  |  13.0 |  60.0 | 0.0  |    122.0    |  21.0 |  1.0  |    2.0    | 163.0  |     59.0    |  0.0  | 52.0 |  2.0  |    65.0   |\n",
            "|     cow     | 83.91% |   87  |    0.0    |   1.0   |  0.0  |  0.0  |  0.0   | 0.0  |  3.0  |  0.0  |  0.0  | 73.0 |     0.0     |  0.0  |  1.0  |    0.0    |  11.0  |     0.0     |  0.0  | 0.0  |  0.0  |    0.0    |\n",
            "| diningtable |  2.2%  |  182  |    0.0    |   1.0   |  0.0  |  0.0  |  57.0  | 0.0  |  1.0  |  4.0  | 122.0 | 0.0  |     4.0     |  3.0  |  0.0  |    0.0    | 102.0  |     38.0    |  0.0  | 15.0 |  0.0  |    10.0   |\n",
            "|     dog     | 61.2%  |  317  |    0.0    |   1.0   |  3.0  |  1.0  |  12.0  | 0.0  |  12.0 |  10.0 |  21.0 | 0.0  |     3.0     | 194.0 |  2.0  |    1.0    |  74.0  |     9.0     |  2.0  | 26.0 |  0.0  |    5.0    |\n",
            "|    horse    | 41.36% |  162  |    0.0    |   0.0   |  0.0  |  0.0  |  2.0   | 1.0  |  3.0  |  0.0  |  1.0  | 1.0  |     0.0     |  2.0  |  67.0 |    1.0    |  89.0  |     1.0     |  0.0  | 0.0  |  0.0  |    0.0    |\n",
            "|  motorbike  | 30.51% |  177  |    0.0    |   7.0   |  0.0  |  2.0  |  2.0   | 5.0  |  34.0 |  0.0  |  2.0  | 0.0  |     0.0     |  1.0  |  1.0  |    54.0   | 105.0  |     3.0     |  1.0  | 1.0  |  0.0  |    0.0    |\n",
            "|    person   | 26.14% |  1408 |    22.0   |  103.0  |  15.0 |  60.0 | 134.0  | 67.0 | 171.0 |  21.0 | 163.0 | 11.0 |    102.0    |  74.0 |  89.0 |   105.0   | 368.0  |     58.0    |  13.0 | 84.0 |  48.0 |    69.0   |\n",
            "| pottedplant | 22.35% |  179  |    0.0    |   7.0   |  2.0  |  1.0  |  18.0  | 2.0  |  9.0  |  10.0 |  59.0 | 0.0  |     38.0    |  9.0  |  1.0  |    3.0    |  58.0  |     40.0    |  0.0  | 31.0 |  4.0  |    14.0   |\n",
            "|    sheep    | 73.13% |   67  |    0.0    |   0.0   |  1.0  |  0.0  |  0.0   | 0.0  |  2.0  |  1.0  |  0.0  | 0.0  |     0.0     |  2.0  |  0.0  |    1.0    |  13.0  |     0.0     |  49.0 | 0.0  |  0.0  |    0.0    |\n",
            "|     sofa    | 14.8%  |  196  |    0.0    |   2.0   |  0.0  |  0.0  |  20.0  | 0.0  |  0.0  |  17.0 |  52.0 | 0.0  |     15.0    |  26.0 |  0.0  |    1.0    |  84.0  |     31.0    |  0.0  | 29.0 |  0.0  |    32.0   |\n",
            "|    train    | 64.85% |  165  |    0.0    |   1.0   |  0.0  |  0.0  |  0.0   | 1.0  |  9.0  |  0.0  |  2.0  | 0.0  |     0.0     |  0.0  |  0.0  |    0.0    |  48.0  |     4.0     |  0.0  | 0.0  | 107.0 |    0.0    |\n",
            "|  tvmonitor  | 28.42% |  183  |    0.0    |   2.0   |  1.0  |  1.0  |  27.0  | 0.0  |  1.0  |  6.0  |  65.0 | 0.0  |     10.0    |  5.0  |  0.0  |    0.0    |  69.0  |     14.0    |  0.0  | 32.0 |  0.0  |    52.0   |\n",
            "+-------------+--------+-------+-----------+---------+-------+-------+--------+------+-------+-------+-------+------+-------------+-------+-------+-----------+--------+-------------+-------+------+-------+-----------+\n"
          ],
          "name": "stdout"
        }
      ]
    },
    {
      "cell_type": "markdown",
      "metadata": {
        "id": "W93Ku1AaI9QR"
      },
      "source": [
        "From the above table, we can see that only 7 classes - aeroplane, bird, boat, cat, dog, sheep and train - occur mostly by themselves (60%+). The remaining classes frequently co-occur (as an extreme, the diningtable class occurs ONLY 2% of the times by itself!)\n",
        "\n"
      ]
    },
    {
      "cell_type": "code",
      "metadata": {
        "id": "Xe4xMrKKqw1v",
        "outputId": "3e457fac-034a-4d2d-ce08-7a4b048a125f",
        "colab": {
          "base_uri": "https://localhost:8080/",
          "height": 54
        }
      },
      "source": [
        "\"\"\"\n",
        "#Resizing the IMAGES in classify_trainX to desired shape\n",
        "length=len(classify_trainX)\n",
        "length_val=len(classify_valX)\n",
        "target_size = (224,224)\n",
        "\n",
        "cv2_imshow(classify_trainX[100])\n",
        "\n",
        "#New size of classify_trainX and its labels\n",
        "trainX=np.zeros((length,224,224,3),dtype=\"float32\")\n",
        "trainY=np.zeros((length,20))\n",
        "print(trainY.shape,': Training set shape') \n",
        "\n",
        "#converting object list of labels to numpy array\n",
        "for i in range(length):\n",
        "  trainY[i]=classify_trainY[i]\n",
        "print(np.sum(trainY,axis=1).shape)\n",
        "  \n",
        "#converting images into numpy array\n",
        "for i in range(length):\n",
        "  trainX[i] = cv2.resize(classify_trainX[i],dsize=target_size)\n",
        "print(trainY.shape,'train label shape')  \n",
        "cv2_imshow(trainX[100]) #to show respective image\n",
        "\n",
        "#New size of classify_val and its labels\n",
        "valX=np.zeros((length_val,224,224,3),dtype=\"float32\")\n",
        "valY=np.zeros((length_val,20))\n",
        "print(valY.shape)\n",
        "\n",
        "#converting object list of labels to numpy array\n",
        "for i in range(length_val):\n",
        "  valY[i]=classify_valY[i]\n",
        "  \n",
        "#converting images into numpy array\n",
        "for i in range(length_val):\n",
        "  valX[i] = cv2.resize(classify_valX[i],dsize=target_size) \n",
        "cv2_imshow(valX[100])\n",
        "\n",
        "#Data Normalisation\n",
        "#train_max = float(trainX.max())\n",
        "#trainX = trainX.astype('float32') / train_max\n",
        "#valX= valX.astype('float32') / train_max\n",
        "#cv2_imshow(valX[100])\n",
        "trainX =trainX.astype('float32')\n",
        "valX= valX.astype('float32')\n",
        "trainX /= 255.0\n",
        "valX /= 255.0\n",
        "\"\"\""
      ],
      "execution_count": null,
      "outputs": [
        {
          "output_type": "execute_result",
          "data": {
            "text/plain": [
              "'\\n#Resizing the IMAGES in classify_trainX to desired shape\\nlength=len(classify_trainX)\\nlength_val=len(classify_valX)\\ntarget_size = (224,224)\\n\\ncv2_imshow(classify_trainX[100])\\n\\n#New size of classify_trainX and its labels\\ntrainX=np.zeros((length,224,224,3),dtype=\"float32\")\\ntrainY=np.zeros((length,20))\\nprint(trainY.shape,\\': Training set shape\\') \\n\\n#converting object list of labels to numpy array\\nfor i in range(length):\\n  trainY[i]=classify_trainY[i]\\nprint(np.sum(trainY,axis=1).shape)\\n  \\n#converting images into numpy array\\nfor i in range(length):\\n  trainX[i] = cv2.resize(classify_trainX[i],dsize=target_size)\\nprint(trainY.shape,\\'train label shape\\')  \\ncv2_imshow(trainX[100]) #to show respective image\\n\\n#New size of classify_val and its labels\\nvalX=np.zeros((length_val,224,224,3),dtype=\"float32\")\\nvalY=np.zeros((length_val,20))\\nprint(valY.shape)\\n\\n#converting object list of labels to numpy array\\nfor i in range(length_val):\\n  valY[i]=classify_valY[i]\\n  \\n#converting images into numpy array\\nfor i in range(length_val):\\n  valX[i] = cv2.resize(classify_valX[i],dsize=target_size) \\ncv2_imshow(valX[100])\\n\\n#Data Normalisation\\n#train_max = float(trainX.max())\\n#trainX = trainX.astype(\\'float32\\') / train_max\\n#valX= valX.astype(\\'float32\\') / train_max\\n#cv2_imshow(valX[100])\\ntrainX =trainX.astype(\\'float32\\')\\nvalX= valX.astype(\\'float32\\')\\ntrainX /= 255.0\\nvalX /= 255.0\\n'"
            ]
          },
          "metadata": {
            "tags": []
          },
          "execution_count": 12
        }
      ]
    },
    {
      "cell_type": "markdown",
      "metadata": {
        "id": "0ZCF3bIprmtL"
      },
      "source": [
        "##2.3) Data Augmentation\n",
        "\n",
        "To improve our model's ability to generalize, we use the `ImageDataGenerator` module present in keras to augment our training dataset through:\n",
        "\n",
        "*   Translations\n",
        "*   Rotations\n",
        "*   Changes in scale\n",
        "*   Shearing\n",
        "*   Horizontal flips"
      ]
    },
    {
      "cell_type": "code",
      "metadata": {
        "id": "2uXBTTkMsRbD"
      },
      "source": [
        "#Make the necessary import\n",
        "from keras.preprocessing.image import ImageDataGenerator\n",
        "\n",
        "#Build image generator for data augmentation\n",
        "aug = ImageDataGenerator(rotation_range=20, width_shift_range=0.15,\n",
        "                         height_shift_range=0.15, shear_range=0.2, zoom_range=0.1,\n",
        "                         horizontal_flip=True, fill_mode=\"nearest\")"
      ],
      "execution_count": null,
      "outputs": []
    },
    {
      "cell_type": "markdown",
      "metadata": {
        "id": "5iZEEIpHKlp-"
      },
      "source": [
        "##2.4) Class Imbalance Modification\n",
        "\n",
        "We choose a multilabel approach for the classification task as:\n",
        "\n",
        "*   Many images (40%+) are associated with multiple target labels\n",
        "*   Many labels frequently co-occur.\n",
        "\n",
        "However, this approach would entail complications because of how imbalanced our dataset is. Our dataset exhibits 2 types of imbalances:\n",
        "\n",
        "*   **Inter-class imbalance**: The person label appears 40%+ of the times, whereas there are labels like sheep which appear only 2% of the time.\n",
        "*   **Intra-class imbalance**: For each class (except for person), there are more negative samples compared to positive samples.\n",
        "\n",
        "### **Metrics** to evaluate the model\n",
        "\n",
        "For multilabel classification, a prediction counts as correct ONLY IF all the label values match. Since the most common label (person) co-occurs frequently with other labels, our model cannot get away with predicting a \"person\" label for most instances of our validation set — **it needs to get the other labels correct as well, for the prediction to be considered correct. **\n",
        "\n",
        "In addition to accuracy, we will also consider precision, recall and f1 scores. We expect suboptimal scores for these metrics on account of the flawed input data.\n",
        "\n",
        "### **Approaches** to address class imbalance\n",
        "\n",
        "Several techniques exist to manage class imbalance. Some of them include:\n",
        "\n",
        "1. Assigning sample weights  \n",
        "2. Assigning class weights\n",
        "3. Random Oversampling/Undersampling\n",
        "2.   Synthetic Minority Oversampling Technique (SMOTE)\n",
        "3.   Undersampling Techiques — Keep Methods & Delete Methods\n",
        "4.   Cost-Sensitive Learning & Methods\n",
        "5.   Advanced algorithms & techniques (Probability Threshold Moving, Bagging, Boosing etc.)\n",
        "\n",
        "However, *most techniques are implemented/conceptualised only for binary or multiclass classification tasks*. In fact, most out-of-the-box modules of `imbalanced-learn library` do not even have multilabel implementations. \n",
        "\n",
        "Given the expectations of this project and time constraints, we tried addressing the class imbalance only through the **class weights** approach.\n",
        "\n",
        "Note: The *sample weights* approach cannot be used here because of concurrence of majority and minority classes for the same image (i.e., you cannot overweigh the class `diningtable` without overweighing the majority `person` class because they frequently appear together).\n",
        "\n"
      ]
    },
    {
      "cell_type": "markdown",
      "metadata": {
        "id": "VvI6CiIc4Z3S"
      },
      "source": [
        "###I) **Using Class Weights**\n",
        "\n",
        "Through class weights, we broadly tell our model which classes should contribute more to learning, given a training example. \n",
        "\n",
        "Class weights are allotted as per their frequency in the target label set.\n",
        "\n",
        "Note: The `compute_class_weight` module in `sklearn` is handcrafted for a binary or multi-class classification task. We need to adapt it to our multilabel setting."
      ]
    },
    {
      "cell_type": "code",
      "metadata": {
        "id": "wtbVvFDIdsIc",
        "outputId": "620880af-3777-4594-8efe-9e8d80904b1b",
        "colab": {
          "base_uri": "https://localhost:8080/",
          "height": 54
        }
      },
      "source": [
        "\"\"\"\n",
        "#Imports for calculating class weight\n",
        "from sklearn.utils.class_weight import compute_class_weight\n",
        "\n",
        "def calculating_class_weights(y_true): \n",
        "    #2 weights are defined - for both presence (1) and absence (0) of a class\n",
        "    #'balanced' assigns weights as per n_samples/(n_classes * np.bincount(y_true[:,i]))\n",
        "    weights = np.empty([20, 2])\n",
        "    for i in range(20):\n",
        "        weights[i] = compute_class_weight('balanced', [0.,1.], y_true[:, i])\n",
        "    return weights\n",
        "\n",
        "#Compute class weights and store in the variable\n",
        "#class_weights = calculating_class_weights(trainY)\n",
        "\"\"\""
      ],
      "execution_count": null,
      "outputs": [
        {
          "output_type": "execute_result",
          "data": {
            "text/plain": [
              "\"\\n#Imports for calculating class weight\\nfrom sklearn.utils.class_weight import compute_class_weight\\n\\ndef calculating_class_weights(y_true): \\n    #2 weights are defined - for both presence (1) and absence (0) of a class\\n    #'balanced' assigns weights as per n_samples/(n_classes * np.bincount(y_true[:,i]))\\n    weights = np.empty([20, 2])\\n    for i in range(20):\\n        weights[i] = compute_class_weight('balanced', [0.,1.], y_true[:, i])\\n    return weights\\n\\n#Compute class weights and store in the variable\\n#class_weights = calculating_class_weights(trainY)\\n\""
            ]
          },
          "metadata": {
            "tags": []
          },
          "execution_count": 14
        }
      ]
    },
    {
      "cell_type": "markdown",
      "metadata": {
        "id": "mpQA3wqptxJu"
      },
      "source": [
        "###II) **Redefining our loss function**\n",
        "\n",
        "Since our classification task is multilabel, we had to tweak the implementation of `class_weights`. Typically, the loss algorithm of our model in keras expects a rank-1 20-dimensional matrix of class weight values. Since the shape of our class weights matrix is different, we need to modify the `binary_crossentropy` loss function to accommodate this."
      ]
    },
    {
      "cell_type": "code",
      "metadata": {
        "id": "wQR6vnvwRXfG",
        "outputId": "b76ecc7b-e77c-493c-b6bc-e415cbec2eed",
        "colab": {
          "base_uri": "https://localhost:8080/",
          "height": 54
        }
      },
      "source": [
        "import keras.backend as K\n",
        "\"\"\"\n",
        "def get_weighted_loss(weights):\n",
        "    def weighted_loss(y_true, y_pred):\n",
        "        return K.mean((weights[:,0]**(1-y_true))*(weights[:,1]**(y_true))*K.binary_crossentropy(y_true, y_pred), axis=-1)\n",
        "    return weighted_loss\n",
        "\"\"\"    "
      ],
      "execution_count": null,
      "outputs": [
        {
          "output_type": "execute_result",
          "data": {
            "text/plain": [
              "'\\ndef get_weighted_loss(weights):\\n    def weighted_loss(y_true, y_pred):\\n        return K.mean((weights[:,0]**(1-y_true))*(weights[:,1]**(y_true))*K.binary_crossentropy(y_true, y_pred), axis=-1)\\n    return weighted_loss\\n'"
            ]
          },
          "metadata": {
            "tags": []
          },
          "execution_count": 15
        }
      ]
    },
    {
      "cell_type": "markdown",
      "metadata": {
        "id": "jzd6DJydYKGf"
      },
      "source": [
        "###III) **Insights about this approach**\n",
        "\n",
        "Although the class_weights approach tackled class imbalance by shifting the say different classes have in the loss in every training cycle, it had unforeseen unconsequences:\n",
        "\n",
        "\n",
        "1.   Although precision, recall & f1 scores improved, accuracy levels plummeted. Currently, our from-scratch model has 90%+ classification accuracy. With class-weights, it was <40%!\n",
        "2.   To overcome this, we would have to apply weights to our evaluation metrics also (e.g. provide more mass to accuracy scores of less-frequent classes)\n",
        "\n",
        "After contemplating over the pros and cons, our team finally decided to discard this approach. We have shown our code (in comments) in the previous section to help you understand the implementation details.\n",
        "\n",
        "Given time, we would explore other approaches (outlined in 2.4) to address the class imbalance."
      ]
    },
    {
      "cell_type": "markdown",
      "metadata": {
        "id": "bR1sKa-F4Ejl"
      },
      "source": [
        "#3) Classification Task"
      ]
    },
    {
      "cell_type": "markdown",
      "metadata": {
        "id": "LI3aK4TVhsK2"
      },
      "source": [
        "##Imports for the section"
      ]
    },
    {
      "cell_type": "code",
      "metadata": {
        "id": "Ys3dxYywg5y5"
      },
      "source": [
        "#Main imports\n",
        "import tensorflow as tf\n",
        "from keras.layers import Input, Dense, Conv2D, MaxPooling2D, UpSampling2D, BatchNormalization, Activation, Flatten, Dropout\n",
        "from keras.models import Model, load_model\n",
        "from keras.callbacks import EarlyStopping, ModelCheckpoint\n",
        "from keras.optimizers import Adam  #<- We are not calling this anywhere per se\n",
        "#!pip3 install tensorflow\n",
        "#%tensorflow_version 1.14\n",
        "from keras.applications import ResNet50\n",
        "from keras.applications import VGG16\n",
        "#from numpy import loadtxt\n",
        "\n",
        "#For the f1 score evaluator\n",
        "from sklearn.metrics import f1_score\n",
        "\n",
        "#For metrics to be displayed while training\n",
        "from keras.metrics import BinaryAccuracy, AUC\n",
        "\n",
        "#For performance evaluation\n",
        "from sklearn.metrics import precision_recall_curve, average_precision_score\n",
        "from sklearn.metrics import multilabel_confusion_matrix\n",
        "from sklearn.metrics import hamming_loss\n",
        "\n",
        "#For plotting\n",
        "import json\n"
      ],
      "execution_count": null,
      "outputs": []
    },
    {
      "cell_type": "code",
      "metadata": {
        "id": "eSVqbeC-u9QJ",
        "outputId": "1117c2f6-a605-42d1-e53b-138378baeff9",
        "colab": {
          "base_uri": "https://localhost:8080/",
          "height": 1000
        }
      },
      "source": [
        "#Loading all the saved models and history objects\n",
        "!wget -O scratch_model.h5 https://www.dropbox.com/s/1nartpf4xacup3h/scratch_model.h5?dl=0\n",
        "!wget -O scratch_hist.json https://www.dropbox.com/s/77dnxi7e99jjfih/scratch_model_history.json?dl=0\n",
        "!wget -O transfer_warmup_model.h5 https://www.dropbox.com/s/1107mcebavg5pub/transfer_model_large_warmup_150.h5?dl=0\n",
        "!wget -O transfer_warmup_hist.json https://www.dropbox.com/s/324m84g06swo63h/transfer_model_large_warmup_150_history.json?dl=0\n",
        "!wget -O transfer_unfreeze_model.h5 https://www.dropbox.com/s/fz3a1mht75u5zms/transfer_model_168onwards.h5?dl=0\n",
        "!wget -O transfer_unfreeze_fhist.json https://www.dropbox.com/s/q0sbrzay8rd8met/transfer_model_168onwards_full_history.json?dl=0"
      ],
      "execution_count": null,
      "outputs": [
        {
          "output_type": "stream",
          "text": [
            "--2020-06-01 18:06:04--  https://www.dropbox.com/s/1nartpf4xacup3h/scratch_model.h5?dl=0\n",
            "Resolving www.dropbox.com (www.dropbox.com)... 162.125.3.1, 2620:100:6018:1::a27d:301\n",
            "Connecting to www.dropbox.com (www.dropbox.com)|162.125.3.1|:443... connected.\n",
            "HTTP request sent, awaiting response... 301 Moved Permanently\n",
            "Location: /s/raw/1nartpf4xacup3h/scratch_model.h5 [following]\n",
            "--2020-06-01 18:06:05--  https://www.dropbox.com/s/raw/1nartpf4xacup3h/scratch_model.h5\n",
            "Reusing existing connection to www.dropbox.com:443.\n",
            "HTTP request sent, awaiting response... 302 Found\n",
            "Location: https://uc0d24f5d4a2d6b4216ac7173032.dl.dropboxusercontent.com/cd/0/inline/A40LpMCHscB_bCeRcjeRYwWqpSud3_A7sZxgrFintUFcFxN8ZO6PgnxgzG2mtQOQPh_YCuxqq0_8Tol4iQZj8vXDub1iAgN4eghE2XXOsSbYk83PTYD73UK19lzfl4hogJw/file# [following]\n",
            "--2020-06-01 18:06:05--  https://uc0d24f5d4a2d6b4216ac7173032.dl.dropboxusercontent.com/cd/0/inline/A40LpMCHscB_bCeRcjeRYwWqpSud3_A7sZxgrFintUFcFxN8ZO6PgnxgzG2mtQOQPh_YCuxqq0_8Tol4iQZj8vXDub1iAgN4eghE2XXOsSbYk83PTYD73UK19lzfl4hogJw/file\n",
            "Resolving uc0d24f5d4a2d6b4216ac7173032.dl.dropboxusercontent.com (uc0d24f5d4a2d6b4216ac7173032.dl.dropboxusercontent.com)... 162.125.3.6, 2620:100:6018:6::a27d:306\n",
            "Connecting to uc0d24f5d4a2d6b4216ac7173032.dl.dropboxusercontent.com (uc0d24f5d4a2d6b4216ac7173032.dl.dropboxusercontent.com)|162.125.3.6|:443... connected.\n",
            "HTTP request sent, awaiting response... 302 FOUND\n",
            "Location: /cd/0/inline2/A40MBkje2DXz7lMKI_fGSmMrere2Cfv943zBKKUeEca5-oDpku5rcPWNVFOAmyldwhhwFHG1PkLX_V7WuuQdznOhpAbjD5ucz2-qA3iV00s2IUUebs99Z4HwN72-s8x79zUwdTDCmlFFz0XTcEoJGxtpM6uPiDlNZ2VXa6wRTKLSmVFSEhIYeEbyKoix8fDID757unnVVc_aeDGeDhUk6TG0Nx-LKpSn2cCyM__OWWAFv-meguW9gEdCmDZp2OoTd7BUSewmhTSKct4eiwVeNYp2kGRFCCnKN2wVuDkqPGgdD_PIjbFGFuyBtbyTyzLoc1SFMsspYD0S1dKr_lU4D4JxSnqirEMBeuDGxw3S_-pXmQ/file [following]\n",
            "--2020-06-01 18:06:06--  https://uc0d24f5d4a2d6b4216ac7173032.dl.dropboxusercontent.com/cd/0/inline2/A40MBkje2DXz7lMKI_fGSmMrere2Cfv943zBKKUeEca5-oDpku5rcPWNVFOAmyldwhhwFHG1PkLX_V7WuuQdznOhpAbjD5ucz2-qA3iV00s2IUUebs99Z4HwN72-s8x79zUwdTDCmlFFz0XTcEoJGxtpM6uPiDlNZ2VXa6wRTKLSmVFSEhIYeEbyKoix8fDID757unnVVc_aeDGeDhUk6TG0Nx-LKpSn2cCyM__OWWAFv-meguW9gEdCmDZp2OoTd7BUSewmhTSKct4eiwVeNYp2kGRFCCnKN2wVuDkqPGgdD_PIjbFGFuyBtbyTyzLoc1SFMsspYD0S1dKr_lU4D4JxSnqirEMBeuDGxw3S_-pXmQ/file\n",
            "Reusing existing connection to uc0d24f5d4a2d6b4216ac7173032.dl.dropboxusercontent.com:443.\n",
            "HTTP request sent, awaiting response... 200 OK\n",
            "Length: 283801416 (271M) [application/octet-stream]\n",
            "Saving to: ‘scratch_model.h5’\n",
            "\n",
            "scratch_model.h5    100%[===================>] 270.65M  48.2MB/s    in 5.5s    \n",
            "\n",
            "2020-06-01 18:06:12 (49.2 MB/s) - ‘scratch_model.h5’ saved [283801416/283801416]\n",
            "\n",
            "--2020-06-01 18:06:13--  https://www.dropbox.com/s/77dnxi7e99jjfih/scratch_model_history.json?dl=0\n",
            "Resolving www.dropbox.com (www.dropbox.com)... 162.125.3.1, 2620:100:6018:1::a27d:301\n",
            "Connecting to www.dropbox.com (www.dropbox.com)|162.125.3.1|:443... connected.\n",
            "HTTP request sent, awaiting response... 301 Moved Permanently\n",
            "Location: /s/raw/77dnxi7e99jjfih/scratch_model_history.json [following]\n",
            "--2020-06-01 18:06:13--  https://www.dropbox.com/s/raw/77dnxi7e99jjfih/scratch_model_history.json\n",
            "Reusing existing connection to www.dropbox.com:443.\n",
            "HTTP request sent, awaiting response... 302 Found\n",
            "Location: https://uc4b00833000784f383329f8795c.dl.dropboxusercontent.com/cd/0/inline/A433TvuWO23vWmCqJBq_44Y-r31QXcVAbI7sNsaKxY2urG40qwh1K6ebylxnpP6ON_FkLFehIRwbU2JLenXfCK6xDwjkTt5qm5DeAMpAsZ20NzXINpPcK_4TKgq4SaQbSaQ/file# [following]\n",
            "--2020-06-01 18:06:13--  https://uc4b00833000784f383329f8795c.dl.dropboxusercontent.com/cd/0/inline/A433TvuWO23vWmCqJBq_44Y-r31QXcVAbI7sNsaKxY2urG40qwh1K6ebylxnpP6ON_FkLFehIRwbU2JLenXfCK6xDwjkTt5qm5DeAMpAsZ20NzXINpPcK_4TKgq4SaQbSaQ/file\n",
            "Resolving uc4b00833000784f383329f8795c.dl.dropboxusercontent.com (uc4b00833000784f383329f8795c.dl.dropboxusercontent.com)... 162.125.3.6, 2620:100:6018:6::a27d:306\n",
            "Connecting to uc4b00833000784f383329f8795c.dl.dropboxusercontent.com (uc4b00833000784f383329f8795c.dl.dropboxusercontent.com)|162.125.3.6|:443... connected.\n",
            "HTTP request sent, awaiting response... 200 OK\n",
            "Length: 2467 (2.4K) [text/plain]\n",
            "Saving to: ‘scratch_hist.json’\n",
            "\n",
            "scratch_hist.json   100%[===================>]   2.41K  --.-KB/s    in 0s      \n",
            "\n",
            "2020-06-01 18:06:14 (327 MB/s) - ‘scratch_hist.json’ saved [2467/2467]\n",
            "\n",
            "--2020-06-01 18:06:15--  https://www.dropbox.com/s/1107mcebavg5pub/transfer_model_large_warmup_150.h5?dl=0\n",
            "Resolving www.dropbox.com (www.dropbox.com)... 162.125.3.1, 2620:100:6018:1::a27d:301\n",
            "Connecting to www.dropbox.com (www.dropbox.com)|162.125.3.1|:443... connected.\n",
            "HTTP request sent, awaiting response... 301 Moved Permanently\n",
            "Location: /s/raw/1107mcebavg5pub/transfer_model_large_warmup_150.h5 [following]\n",
            "--2020-06-01 18:06:15--  https://www.dropbox.com/s/raw/1107mcebavg5pub/transfer_model_large_warmup_150.h5\n",
            "Reusing existing connection to www.dropbox.com:443.\n",
            "HTTP request sent, awaiting response... 302 Found\n",
            "Location: https://uc80855aed9e3b4e7c18e804cbb8.dl.dropboxusercontent.com/cd/0/inline/A41rrYA7R2_idOoVoltCtkF-vrHuMGc00wC53C1njX7CSDIRqNdlHA30RejfUzc8RHBgOl8s_AiWLcltGOGihWVW14JzpiXBU2h0jOYdD0HmjlC7P63btP6vXCEGQeu1ZI8/file# [following]\n",
            "--2020-06-01 18:06:15--  https://uc80855aed9e3b4e7c18e804cbb8.dl.dropboxusercontent.com/cd/0/inline/A41rrYA7R2_idOoVoltCtkF-vrHuMGc00wC53C1njX7CSDIRqNdlHA30RejfUzc8RHBgOl8s_AiWLcltGOGihWVW14JzpiXBU2h0jOYdD0HmjlC7P63btP6vXCEGQeu1ZI8/file\n",
            "Resolving uc80855aed9e3b4e7c18e804cbb8.dl.dropboxusercontent.com (uc80855aed9e3b4e7c18e804cbb8.dl.dropboxusercontent.com)... 162.125.3.6, 2620:100:6018:6::a27d:306\n",
            "Connecting to uc80855aed9e3b4e7c18e804cbb8.dl.dropboxusercontent.com (uc80855aed9e3b4e7c18e804cbb8.dl.dropboxusercontent.com)|162.125.3.6|:443... connected.\n",
            "HTTP request sent, awaiting response... 302 FOUND\n",
            "Location: /cd/0/inline2/A40jRhG4qzRy4W4lRRwd89y1lZkdf135OQFdEhI2XHTw_X6zSiZqsc4gKjqjyUESACkgh7i3H3vFC4qShgGRaiTLQiVIAk5zmT_jIjYItYxFwaefJ1eLDSxOQ7JI47NNauyT3j17aq9sQWe8YxFaY_XdrhQgcDQOgtx904r1BkNXDeffUF7momggbnstuAVoTUTeGBW74UdKuwi6iKQ3HIArYE2aDbrd4M499wAKgm_2tuUiAWszvxgn5m4JEL-HRog-eCA2_RD9sqiEySfykWpixorelmEVtzdWCzXpCvFFH0Wyw8mGzhE0zWR9MU3bZJV43wsLi62N1UqOGb8S17zfj_dCrQ-yb1AobM-igA9wvw/file [following]\n",
            "--2020-06-01 18:06:16--  https://uc80855aed9e3b4e7c18e804cbb8.dl.dropboxusercontent.com/cd/0/inline2/A40jRhG4qzRy4W4lRRwd89y1lZkdf135OQFdEhI2XHTw_X6zSiZqsc4gKjqjyUESACkgh7i3H3vFC4qShgGRaiTLQiVIAk5zmT_jIjYItYxFwaefJ1eLDSxOQ7JI47NNauyT3j17aq9sQWe8YxFaY_XdrhQgcDQOgtx904r1BkNXDeffUF7momggbnstuAVoTUTeGBW74UdKuwi6iKQ3HIArYE2aDbrd4M499wAKgm_2tuUiAWszvxgn5m4JEL-HRog-eCA2_RD9sqiEySfykWpixorelmEVtzdWCzXpCvFFH0Wyw8mGzhE0zWR9MU3bZJV43wsLi62N1UqOGb8S17zfj_dCrQ-yb1AobM-igA9wvw/file\n",
            "Reusing existing connection to uc80855aed9e3b4e7c18e804cbb8.dl.dropboxusercontent.com:443.\n",
            "HTTP request sent, awaiting response... 200 OK\n",
            "Length: 101214976 (97M) [application/octet-stream]\n",
            "Saving to: ‘transfer_warmup_model.h5’\n",
            "\n",
            "transfer_warmup_mod 100%[===================>]  96.53M  22.3MB/s    in 4.4s    \n",
            "\n",
            "2020-06-01 18:06:21 (22.1 MB/s) - ‘transfer_warmup_model.h5’ saved [101214976/101214976]\n",
            "\n",
            "--2020-06-01 18:06:22--  https://www.dropbox.com/s/324m84g06swo63h/transfer_model_large_warmup_150_history.json?dl=0\n",
            "Resolving www.dropbox.com (www.dropbox.com)... 162.125.3.1, 2620:100:6018:1::a27d:301\n",
            "Connecting to www.dropbox.com (www.dropbox.com)|162.125.3.1|:443... connected.\n",
            "HTTP request sent, awaiting response... 301 Moved Permanently\n",
            "Location: /s/raw/324m84g06swo63h/transfer_model_large_warmup_150_history.json [following]\n",
            "--2020-06-01 18:06:23--  https://www.dropbox.com/s/raw/324m84g06swo63h/transfer_model_large_warmup_150_history.json\n",
            "Reusing existing connection to www.dropbox.com:443.\n",
            "HTTP request sent, awaiting response... 302 Found\n",
            "Location: https://uc694ba2fbd9e568b19466ba25ba.dl.dropboxusercontent.com/cd/0/inline/A40y4bzEn6AbSpqAp_RIcYp0lTi8Ry_a4Uq7gVcfO_mJ5sNrjfhikRJ7_-GXluow3lqo1xHPEOo2fwqrhoEIktLL_AVntXkTQlYIlzxQO95xUr5dSdBCzB1dfgMjuOoei-Q/file# [following]\n",
            "--2020-06-01 18:06:23--  https://uc694ba2fbd9e568b19466ba25ba.dl.dropboxusercontent.com/cd/0/inline/A40y4bzEn6AbSpqAp_RIcYp0lTi8Ry_a4Uq7gVcfO_mJ5sNrjfhikRJ7_-GXluow3lqo1xHPEOo2fwqrhoEIktLL_AVntXkTQlYIlzxQO95xUr5dSdBCzB1dfgMjuOoei-Q/file\n",
            "Resolving uc694ba2fbd9e568b19466ba25ba.dl.dropboxusercontent.com (uc694ba2fbd9e568b19466ba25ba.dl.dropboxusercontent.com)... 162.125.3.6, 2620:100:6018:6::a27d:306\n",
            "Connecting to uc694ba2fbd9e568b19466ba25ba.dl.dropboxusercontent.com (uc694ba2fbd9e568b19466ba25ba.dl.dropboxusercontent.com)|162.125.3.6|:443... connected.\n",
            "HTTP request sent, awaiting response... 200 OK\n",
            "Length: 3376 (3.3K) [text/plain]\n",
            "Saving to: ‘transfer_warmup_hist.json’\n",
            "\n",
            "transfer_warmup_his 100%[===================>]   3.30K  --.-KB/s    in 0s      \n",
            "\n",
            "2020-06-01 18:06:24 (566 MB/s) - ‘transfer_warmup_hist.json’ saved [3376/3376]\n",
            "\n",
            "--2020-06-01 18:06:25--  https://www.dropbox.com/s/fz3a1mht75u5zms/transfer_model_168onwards.h5?dl=0\n",
            "Resolving www.dropbox.com (www.dropbox.com)... 162.125.3.1, 2620:100:6018:1::a27d:301\n",
            "Connecting to www.dropbox.com (www.dropbox.com)|162.125.3.1|:443... connected.\n",
            "HTTP request sent, awaiting response... 301 Moved Permanently\n",
            "Location: /s/raw/fz3a1mht75u5zms/transfer_model_168onwards.h5 [following]\n",
            "--2020-06-01 18:06:25--  https://www.dropbox.com/s/raw/fz3a1mht75u5zms/transfer_model_168onwards.h5\n",
            "Reusing existing connection to www.dropbox.com:443.\n",
            "HTTP request sent, awaiting response... 302 Found\n",
            "Location: https://uc42ae2aed1ec10ebd0277da283e.dl.dropboxusercontent.com/cd/0/inline/A43F-B9jnZM1zkgDgAZpBsWCH2a6kowFp5OjtdyVt0nbHgoo16JwrvA5GOTjTH5LL43gtdWA4kImBQ8yEZxyDIozFJjQ1aOS9hl_TbXek_WrJBGO3YK3nJN4hAzQRwfILTQ/file# [following]\n",
            "--2020-06-01 18:06:25--  https://uc42ae2aed1ec10ebd0277da283e.dl.dropboxusercontent.com/cd/0/inline/A43F-B9jnZM1zkgDgAZpBsWCH2a6kowFp5OjtdyVt0nbHgoo16JwrvA5GOTjTH5LL43gtdWA4kImBQ8yEZxyDIozFJjQ1aOS9hl_TbXek_WrJBGO3YK3nJN4hAzQRwfILTQ/file\n",
            "Resolving uc42ae2aed1ec10ebd0277da283e.dl.dropboxusercontent.com (uc42ae2aed1ec10ebd0277da283e.dl.dropboxusercontent.com)... 162.125.3.6, 2620:100:6018:6::a27d:306\n",
            "Connecting to uc42ae2aed1ec10ebd0277da283e.dl.dropboxusercontent.com (uc42ae2aed1ec10ebd0277da283e.dl.dropboxusercontent.com)|162.125.3.6|:443... connected.\n",
            "HTTP request sent, awaiting response... 302 FOUND\n",
            "Location: /cd/0/inline2/A41Mjj7OOF4PkGNp31xHrMbWpHPaxlh2JNHV0CsQ_sD-epumZlAv4UHl-byfxtr5-N9RAhXJrDuWCuXOlBE67eDo2RvtBCblAuIjE8126nMaBf8XwgZN1nog20Xd3IwaQ-HbgJUCUziV-EzuEkfODIv2R-2EWO8jjTzF5Ez9XB8aqrk959yR3zlxMxznmKDPRxRUF4ONZBsGH19B7Iz560uGfG5abh6b_aIuXWeOXVbsyr099lH1z_vyMZsxkesqAakpfHpY1g2hvuge_9-VO6WeGVhCFZ38rlf-XodizxTDbkqXO3Ec4MQC0HuAq_u10qQDqOE5v-oA_OCXP2TYQFcYRDg2BifX2yX97pW3rvzHcg/file [following]\n",
            "--2020-06-01 18:06:26--  https://uc42ae2aed1ec10ebd0277da283e.dl.dropboxusercontent.com/cd/0/inline2/A41Mjj7OOF4PkGNp31xHrMbWpHPaxlh2JNHV0CsQ_sD-epumZlAv4UHl-byfxtr5-N9RAhXJrDuWCuXOlBE67eDo2RvtBCblAuIjE8126nMaBf8XwgZN1nog20Xd3IwaQ-HbgJUCUziV-EzuEkfODIv2R-2EWO8jjTzF5Ez9XB8aqrk959yR3zlxMxznmKDPRxRUF4ONZBsGH19B7Iz560uGfG5abh6b_aIuXWeOXVbsyr099lH1z_vyMZsxkesqAakpfHpY1g2hvuge_9-VO6WeGVhCFZ38rlf-XodizxTDbkqXO3Ec4MQC0HuAq_u10qQDqOE5v-oA_OCXP2TYQFcYRDg2BifX2yX97pW3rvzHcg/file\n",
            "Reusing existing connection to uc42ae2aed1ec10ebd0277da283e.dl.dropboxusercontent.com:443.\n",
            "HTTP request sent, awaiting response... 200 OK\n",
            "Length: 109656816 (105M) [application/octet-stream]\n",
            "Saving to: ‘transfer_unfreeze_model.h5’\n",
            "\n",
            "transfer_unfreeze_m 100%[===================>] 104.58M  56.9MB/s    in 1.8s    \n",
            "\n",
            "2020-06-01 18:06:29 (56.9 MB/s) - ‘transfer_unfreeze_model.h5’ saved [109656816/109656816]\n",
            "\n",
            "--2020-06-01 18:06:29--  https://www.dropbox.com/s/q0sbrzay8rd8met/transfer_model_168onwards_full_history.json?dl=0\n",
            "Resolving www.dropbox.com (www.dropbox.com)... 162.125.3.1, 2620:100:6018:1::a27d:301\n",
            "Connecting to www.dropbox.com (www.dropbox.com)|162.125.3.1|:443... connected.\n",
            "HTTP request sent, awaiting response... 301 Moved Permanently\n",
            "Location: /s/raw/q0sbrzay8rd8met/transfer_model_168onwards_full_history.json [following]\n",
            "--2020-06-01 18:06:30--  https://www.dropbox.com/s/raw/q0sbrzay8rd8met/transfer_model_168onwards_full_history.json\n",
            "Reusing existing connection to www.dropbox.com:443.\n",
            "HTTP request sent, awaiting response... 302 Found\n",
            "Location: https://uca3361ac837b1b93c3b5542ff2a.dl.dropboxusercontent.com/cd/0/inline/A40r8foITdTe7u92bh4QBXjcg8Ct8A0dA1_7uFr7d_9-Az7NzO3Mzv8OO15DkWSb1RTRI9QmsEv7L8XoLg7S_AzEtW4ygw5is5wfYjvMWSAkNwOm7VQmbYBEncwNYdFI5nU/file# [following]\n",
            "--2020-06-01 18:06:30--  https://uca3361ac837b1b93c3b5542ff2a.dl.dropboxusercontent.com/cd/0/inline/A40r8foITdTe7u92bh4QBXjcg8Ct8A0dA1_7uFr7d_9-Az7NzO3Mzv8OO15DkWSb1RTRI9QmsEv7L8XoLg7S_AzEtW4ygw5is5wfYjvMWSAkNwOm7VQmbYBEncwNYdFI5nU/file\n",
            "Resolving uca3361ac837b1b93c3b5542ff2a.dl.dropboxusercontent.com (uca3361ac837b1b93c3b5542ff2a.dl.dropboxusercontent.com)... 162.125.3.6, 2620:100:6018:6::a27d:306\n",
            "Connecting to uca3361ac837b1b93c3b5542ff2a.dl.dropboxusercontent.com (uca3361ac837b1b93c3b5542ff2a.dl.dropboxusercontent.com)|162.125.3.6|:443... connected.\n",
            "HTTP request sent, awaiting response... 200 OK\n",
            "Length: 2370 (2.3K) [text/plain]\n",
            "Saving to: ‘transfer_unfreeze_fhist.json’\n",
            "\n",
            "transfer_unfreeze_f 100%[===================>]   2.31K  --.-KB/s    in 0s      \n",
            "\n",
            "2020-06-01 18:06:31 (419 MB/s) - ‘transfer_unfreeze_fhist.json’ saved [2370/2370]\n",
            "\n"
          ],
          "name": "stdout"
        }
      ]
    },
    {
      "cell_type": "markdown",
      "metadata": {
        "id": "cc7pQz2z1zgf"
      },
      "source": [
        "## Implementing an f1 score evaluator"
      ]
    },
    {
      "cell_type": "markdown",
      "metadata": {
        "id": "KI6955PVx7SF"
      },
      "source": [
        "Before we implement the classifier model architecture, we need a working implementation of evaluating the precision, recall and f1 score in each training epoch as Keras does not have the same in its library of metrics. "
      ]
    },
    {
      "cell_type": "code",
      "metadata": {
        "id": "-XLJ7K-aydRT"
      },
      "source": [
        "def get_recall(y_true, y_pred):\n",
        "    y_pred = K.round(y_pred)\n",
        "    \n",
        "    #Calculate TP, TN, FP, FN\n",
        "    tp = K.sum(K.cast(y_true*y_pred, 'float'), axis=0)\n",
        "    fn = K.sum(K.cast(y_true*(1-y_pred), 'float'), axis=0)\n",
        "\n",
        "    #Calculate precision & recall\n",
        "    r = tp / (tp + fn + K.epsilon())\n",
        "    recall = K.mean(r)\n",
        "    return recall\n",
        "\n",
        "def get_precision(y_true, y_pred):\n",
        "    y_pred = K.round(y_pred)\n",
        "    \n",
        "    #Calculate TP, TN, FP, FN\n",
        "    tp = K.sum(K.cast(y_true*y_pred, 'float'), axis=0)\n",
        "    fp = K.sum(K.cast((1-y_true)*y_pred, 'float'), axis=0)\n",
        "\n",
        "    #Calculate precision & recall\n",
        "    p = tp / (tp + fp + K.epsilon())\n",
        "    precision = K.mean(p)\n",
        "    \n",
        "    return precision\n",
        "\n",
        "\n",
        "def get_f1(y_true, y_pred):\n",
        "    y_pred = K.round(y_pred)\n",
        "    \n",
        "    #Calculate TP, TN, FP, FN\n",
        "    tp = K.sum(K.cast(y_true*y_pred, 'float'), axis=0)\n",
        "    fp = K.sum(K.cast((1-y_true)*y_pred, 'float'), axis=0)\n",
        "    fn = K.sum(K.cast(y_true*(1-y_pred), 'float'), axis=0)\n",
        "\n",
        "    #Calculate precision & recall\n",
        "    p = tp / (tp + fp + K.epsilon())\n",
        "    r = tp / (tp + fn + K.epsilon())\n",
        "\n",
        "    #Calculate f1 score\n",
        "    f1_1 = 2*p*r / (p+r+K.epsilon())\n",
        "    f1_1 = tf.where(tf.math.is_nan(f1_1), tf.zeros_like(f1_1), f1_1)\n",
        "    f1 = K.mean(f1_1)\n",
        "    return f1"
      ],
      "execution_count": null,
      "outputs": []
    },
    {
      "cell_type": "markdown",
      "metadata": {
        "id": "IQtOLv-QTAam"
      },
      "source": [
        "##3.1) Model From Scratch"
      ]
    },
    {
      "cell_type": "markdown",
      "metadata": {
        "id": "PYVOK0yiC1Fh"
      },
      "source": [
        "### 3.1.1) Compiling the model"
      ]
    },
    {
      "cell_type": "code",
      "metadata": {
        "id": "VCxnS1QemZUx",
        "outputId": "d1cc6a57-0082-4c27-f2b3-e39d2dd11867",
        "colab": {
          "base_uri": "https://localhost:8080/",
          "height": 1000
        }
      },
      "source": [
        "batch_size = 32\n",
        "num_classes = 20\n",
        "epochs = 150\n",
        "\n",
        "\n",
        "callbacks = [EarlyStopping(monitor='val_acc', patience=5, mode='max'),\n",
        "             ModelCheckpoint(filepath='scratch_model_checkpoint.h5', monitor='val_acc', save_best_only=True)]\n",
        "\n",
        "#Trying with VGG16 because ResNet is disconnecting\n",
        "model = ResNet50(include_top=False, weights=None, input_shape=(224, 224, 3))\n",
        "x = model.output\n",
        "x = Flatten()(x)\n",
        "#Last layer \n",
        "predictions = Dense(20, activation=\"sigmoid\")(x)\n",
        "\n",
        "cmodel = Model(input = model.input, output = predictions)\n",
        "cmodel.compile(optimizer='adam', loss=\"binary_crossentropy\", \n",
        "               metrics=['accuracy',get_precision, get_recall, get_f1])\n",
        "cmodel.summary()"
      ],
      "execution_count": null,
      "outputs": [
        {
          "output_type": "stream",
          "text": [
            "Model: \"model_1\"\n",
            "__________________________________________________________________________________________________\n",
            "Layer (type)                    Output Shape         Param #     Connected to                     \n",
            "==================================================================================================\n",
            "input_1 (InputLayer)            (None, 224, 224, 3)  0                                            \n",
            "__________________________________________________________________________________________________\n",
            "conv1_pad (ZeroPadding2D)       (None, 230, 230, 3)  0           input_1[0][0]                    \n",
            "__________________________________________________________________________________________________\n",
            "conv1 (Conv2D)                  (None, 112, 112, 64) 9472        conv1_pad[0][0]                  \n",
            "__________________________________________________________________________________________________\n",
            "bn_conv1 (BatchNormalization)   (None, 112, 112, 64) 256         conv1[0][0]                      \n",
            "__________________________________________________________________________________________________\n",
            "activation_1 (Activation)       (None, 112, 112, 64) 0           bn_conv1[0][0]                   \n",
            "__________________________________________________________________________________________________\n",
            "pool1_pad (ZeroPadding2D)       (None, 114, 114, 64) 0           activation_1[0][0]               \n",
            "__________________________________________________________________________________________________\n",
            "max_pooling2d_1 (MaxPooling2D)  (None, 56, 56, 64)   0           pool1_pad[0][0]                  \n",
            "__________________________________________________________________________________________________\n",
            "res2a_branch2a (Conv2D)         (None, 56, 56, 64)   4160        max_pooling2d_1[0][0]            \n",
            "__________________________________________________________________________________________________\n",
            "bn2a_branch2a (BatchNormalizati (None, 56, 56, 64)   256         res2a_branch2a[0][0]             \n",
            "__________________________________________________________________________________________________\n",
            "activation_2 (Activation)       (None, 56, 56, 64)   0           bn2a_branch2a[0][0]              \n",
            "__________________________________________________________________________________________________\n",
            "res2a_branch2b (Conv2D)         (None, 56, 56, 64)   36928       activation_2[0][0]               \n",
            "__________________________________________________________________________________________________\n",
            "bn2a_branch2b (BatchNormalizati (None, 56, 56, 64)   256         res2a_branch2b[0][0]             \n",
            "__________________________________________________________________________________________________\n",
            "activation_3 (Activation)       (None, 56, 56, 64)   0           bn2a_branch2b[0][0]              \n",
            "__________________________________________________________________________________________________\n",
            "res2a_branch2c (Conv2D)         (None, 56, 56, 256)  16640       activation_3[0][0]               \n",
            "__________________________________________________________________________________________________\n",
            "res2a_branch1 (Conv2D)          (None, 56, 56, 256)  16640       max_pooling2d_1[0][0]            \n",
            "__________________________________________________________________________________________________\n",
            "bn2a_branch2c (BatchNormalizati (None, 56, 56, 256)  1024        res2a_branch2c[0][0]             \n",
            "__________________________________________________________________________________________________\n",
            "bn2a_branch1 (BatchNormalizatio (None, 56, 56, 256)  1024        res2a_branch1[0][0]              \n",
            "__________________________________________________________________________________________________\n",
            "add_1 (Add)                     (None, 56, 56, 256)  0           bn2a_branch2c[0][0]              \n",
            "                                                                 bn2a_branch1[0][0]               \n",
            "__________________________________________________________________________________________________\n",
            "activation_4 (Activation)       (None, 56, 56, 256)  0           add_1[0][0]                      \n",
            "__________________________________________________________________________________________________\n",
            "res2b_branch2a (Conv2D)         (None, 56, 56, 64)   16448       activation_4[0][0]               \n",
            "__________________________________________________________________________________________________\n",
            "bn2b_branch2a (BatchNormalizati (None, 56, 56, 64)   256         res2b_branch2a[0][0]             \n",
            "__________________________________________________________________________________________________\n",
            "activation_5 (Activation)       (None, 56, 56, 64)   0           bn2b_branch2a[0][0]              \n",
            "__________________________________________________________________________________________________\n",
            "res2b_branch2b (Conv2D)         (None, 56, 56, 64)   36928       activation_5[0][0]               \n",
            "__________________________________________________________________________________________________\n",
            "bn2b_branch2b (BatchNormalizati (None, 56, 56, 64)   256         res2b_branch2b[0][0]             \n",
            "__________________________________________________________________________________________________\n",
            "activation_6 (Activation)       (None, 56, 56, 64)   0           bn2b_branch2b[0][0]              \n",
            "__________________________________________________________________________________________________\n",
            "res2b_branch2c (Conv2D)         (None, 56, 56, 256)  16640       activation_6[0][0]               \n",
            "__________________________________________________________________________________________________\n",
            "bn2b_branch2c (BatchNormalizati (None, 56, 56, 256)  1024        res2b_branch2c[0][0]             \n",
            "__________________________________________________________________________________________________\n",
            "add_2 (Add)                     (None, 56, 56, 256)  0           bn2b_branch2c[0][0]              \n",
            "                                                                 activation_4[0][0]               \n",
            "__________________________________________________________________________________________________\n",
            "activation_7 (Activation)       (None, 56, 56, 256)  0           add_2[0][0]                      \n",
            "__________________________________________________________________________________________________\n",
            "res2c_branch2a (Conv2D)         (None, 56, 56, 64)   16448       activation_7[0][0]               \n",
            "__________________________________________________________________________________________________\n",
            "bn2c_branch2a (BatchNormalizati (None, 56, 56, 64)   256         res2c_branch2a[0][0]             \n",
            "__________________________________________________________________________________________________\n",
            "activation_8 (Activation)       (None, 56, 56, 64)   0           bn2c_branch2a[0][0]              \n",
            "__________________________________________________________________________________________________\n",
            "res2c_branch2b (Conv2D)         (None, 56, 56, 64)   36928       activation_8[0][0]               \n",
            "__________________________________________________________________________________________________\n",
            "bn2c_branch2b (BatchNormalizati (None, 56, 56, 64)   256         res2c_branch2b[0][0]             \n",
            "__________________________________________________________________________________________________\n",
            "activation_9 (Activation)       (None, 56, 56, 64)   0           bn2c_branch2b[0][0]              \n",
            "__________________________________________________________________________________________________\n",
            "res2c_branch2c (Conv2D)         (None, 56, 56, 256)  16640       activation_9[0][0]               \n",
            "__________________________________________________________________________________________________\n",
            "bn2c_branch2c (BatchNormalizati (None, 56, 56, 256)  1024        res2c_branch2c[0][0]             \n",
            "__________________________________________________________________________________________________\n",
            "add_3 (Add)                     (None, 56, 56, 256)  0           bn2c_branch2c[0][0]              \n",
            "                                                                 activation_7[0][0]               \n",
            "__________________________________________________________________________________________________\n",
            "activation_10 (Activation)      (None, 56, 56, 256)  0           add_3[0][0]                      \n",
            "__________________________________________________________________________________________________\n",
            "res3a_branch2a (Conv2D)         (None, 28, 28, 128)  32896       activation_10[0][0]              \n",
            "__________________________________________________________________________________________________\n",
            "bn3a_branch2a (BatchNormalizati (None, 28, 28, 128)  512         res3a_branch2a[0][0]             \n",
            "__________________________________________________________________________________________________\n",
            "activation_11 (Activation)      (None, 28, 28, 128)  0           bn3a_branch2a[0][0]              \n",
            "__________________________________________________________________________________________________\n",
            "res3a_branch2b (Conv2D)         (None, 28, 28, 128)  147584      activation_11[0][0]              \n",
            "__________________________________________________________________________________________________\n",
            "bn3a_branch2b (BatchNormalizati (None, 28, 28, 128)  512         res3a_branch2b[0][0]             \n",
            "__________________________________________________________________________________________________\n",
            "activation_12 (Activation)      (None, 28, 28, 128)  0           bn3a_branch2b[0][0]              \n",
            "__________________________________________________________________________________________________\n",
            "res3a_branch2c (Conv2D)         (None, 28, 28, 512)  66048       activation_12[0][0]              \n",
            "__________________________________________________________________________________________________\n",
            "res3a_branch1 (Conv2D)          (None, 28, 28, 512)  131584      activation_10[0][0]              \n",
            "__________________________________________________________________________________________________\n",
            "bn3a_branch2c (BatchNormalizati (None, 28, 28, 512)  2048        res3a_branch2c[0][0]             \n",
            "__________________________________________________________________________________________________\n",
            "bn3a_branch1 (BatchNormalizatio (None, 28, 28, 512)  2048        res3a_branch1[0][0]              \n",
            "__________________________________________________________________________________________________\n",
            "add_4 (Add)                     (None, 28, 28, 512)  0           bn3a_branch2c[0][0]              \n",
            "                                                                 bn3a_branch1[0][0]               \n",
            "__________________________________________________________________________________________________\n",
            "activation_13 (Activation)      (None, 28, 28, 512)  0           add_4[0][0]                      \n",
            "__________________________________________________________________________________________________\n",
            "res3b_branch2a (Conv2D)         (None, 28, 28, 128)  65664       activation_13[0][0]              \n",
            "__________________________________________________________________________________________________\n",
            "bn3b_branch2a (BatchNormalizati (None, 28, 28, 128)  512         res3b_branch2a[0][0]             \n",
            "__________________________________________________________________________________________________\n",
            "activation_14 (Activation)      (None, 28, 28, 128)  0           bn3b_branch2a[0][0]              \n",
            "__________________________________________________________________________________________________\n",
            "res3b_branch2b (Conv2D)         (None, 28, 28, 128)  147584      activation_14[0][0]              \n",
            "__________________________________________________________________________________________________\n",
            "bn3b_branch2b (BatchNormalizati (None, 28, 28, 128)  512         res3b_branch2b[0][0]             \n",
            "__________________________________________________________________________________________________\n",
            "activation_15 (Activation)      (None, 28, 28, 128)  0           bn3b_branch2b[0][0]              \n",
            "__________________________________________________________________________________________________\n",
            "res3b_branch2c (Conv2D)         (None, 28, 28, 512)  66048       activation_15[0][0]              \n",
            "__________________________________________________________________________________________________\n",
            "bn3b_branch2c (BatchNormalizati (None, 28, 28, 512)  2048        res3b_branch2c[0][0]             \n",
            "__________________________________________________________________________________________________\n",
            "add_5 (Add)                     (None, 28, 28, 512)  0           bn3b_branch2c[0][0]              \n",
            "                                                                 activation_13[0][0]              \n",
            "__________________________________________________________________________________________________\n",
            "activation_16 (Activation)      (None, 28, 28, 512)  0           add_5[0][0]                      \n",
            "__________________________________________________________________________________________________\n",
            "res3c_branch2a (Conv2D)         (None, 28, 28, 128)  65664       activation_16[0][0]              \n",
            "__________________________________________________________________________________________________\n",
            "bn3c_branch2a (BatchNormalizati (None, 28, 28, 128)  512         res3c_branch2a[0][0]             \n",
            "__________________________________________________________________________________________________\n",
            "activation_17 (Activation)      (None, 28, 28, 128)  0           bn3c_branch2a[0][0]              \n",
            "__________________________________________________________________________________________________\n",
            "res3c_branch2b (Conv2D)         (None, 28, 28, 128)  147584      activation_17[0][0]              \n",
            "__________________________________________________________________________________________________\n",
            "bn3c_branch2b (BatchNormalizati (None, 28, 28, 128)  512         res3c_branch2b[0][0]             \n",
            "__________________________________________________________________________________________________\n",
            "activation_18 (Activation)      (None, 28, 28, 128)  0           bn3c_branch2b[0][0]              \n",
            "__________________________________________________________________________________________________\n",
            "res3c_branch2c (Conv2D)         (None, 28, 28, 512)  66048       activation_18[0][0]              \n",
            "__________________________________________________________________________________________________\n",
            "bn3c_branch2c (BatchNormalizati (None, 28, 28, 512)  2048        res3c_branch2c[0][0]             \n",
            "__________________________________________________________________________________________________\n",
            "add_6 (Add)                     (None, 28, 28, 512)  0           bn3c_branch2c[0][0]              \n",
            "                                                                 activation_16[0][0]              \n",
            "__________________________________________________________________________________________________\n",
            "activation_19 (Activation)      (None, 28, 28, 512)  0           add_6[0][0]                      \n",
            "__________________________________________________________________________________________________\n",
            "res3d_branch2a (Conv2D)         (None, 28, 28, 128)  65664       activation_19[0][0]              \n",
            "__________________________________________________________________________________________________\n",
            "bn3d_branch2a (BatchNormalizati (None, 28, 28, 128)  512         res3d_branch2a[0][0]             \n",
            "__________________________________________________________________________________________________\n",
            "activation_20 (Activation)      (None, 28, 28, 128)  0           bn3d_branch2a[0][0]              \n",
            "__________________________________________________________________________________________________\n",
            "res3d_branch2b (Conv2D)         (None, 28, 28, 128)  147584      activation_20[0][0]              \n",
            "__________________________________________________________________________________________________\n",
            "bn3d_branch2b (BatchNormalizati (None, 28, 28, 128)  512         res3d_branch2b[0][0]             \n",
            "__________________________________________________________________________________________________\n",
            "activation_21 (Activation)      (None, 28, 28, 128)  0           bn3d_branch2b[0][0]              \n",
            "__________________________________________________________________________________________________\n",
            "res3d_branch2c (Conv2D)         (None, 28, 28, 512)  66048       activation_21[0][0]              \n",
            "__________________________________________________________________________________________________\n",
            "bn3d_branch2c (BatchNormalizati (None, 28, 28, 512)  2048        res3d_branch2c[0][0]             \n",
            "__________________________________________________________________________________________________\n",
            "add_7 (Add)                     (None, 28, 28, 512)  0           bn3d_branch2c[0][0]              \n",
            "                                                                 activation_19[0][0]              \n",
            "__________________________________________________________________________________________________\n",
            "activation_22 (Activation)      (None, 28, 28, 512)  0           add_7[0][0]                      \n",
            "__________________________________________________________________________________________________\n",
            "res4a_branch2a (Conv2D)         (None, 14, 14, 256)  131328      activation_22[0][0]              \n",
            "__________________________________________________________________________________________________\n",
            "bn4a_branch2a (BatchNormalizati (None, 14, 14, 256)  1024        res4a_branch2a[0][0]             \n",
            "__________________________________________________________________________________________________\n",
            "activation_23 (Activation)      (None, 14, 14, 256)  0           bn4a_branch2a[0][0]              \n",
            "__________________________________________________________________________________________________\n",
            "res4a_branch2b (Conv2D)         (None, 14, 14, 256)  590080      activation_23[0][0]              \n",
            "__________________________________________________________________________________________________\n",
            "bn4a_branch2b (BatchNormalizati (None, 14, 14, 256)  1024        res4a_branch2b[0][0]             \n",
            "__________________________________________________________________________________________________\n",
            "activation_24 (Activation)      (None, 14, 14, 256)  0           bn4a_branch2b[0][0]              \n",
            "__________________________________________________________________________________________________\n",
            "res4a_branch2c (Conv2D)         (None, 14, 14, 1024) 263168      activation_24[0][0]              \n",
            "__________________________________________________________________________________________________\n",
            "res4a_branch1 (Conv2D)          (None, 14, 14, 1024) 525312      activation_22[0][0]              \n",
            "__________________________________________________________________________________________________\n",
            "bn4a_branch2c (BatchNormalizati (None, 14, 14, 1024) 4096        res4a_branch2c[0][0]             \n",
            "__________________________________________________________________________________________________\n",
            "bn4a_branch1 (BatchNormalizatio (None, 14, 14, 1024) 4096        res4a_branch1[0][0]              \n",
            "__________________________________________________________________________________________________\n",
            "add_8 (Add)                     (None, 14, 14, 1024) 0           bn4a_branch2c[0][0]              \n",
            "                                                                 bn4a_branch1[0][0]               \n",
            "__________________________________________________________________________________________________\n",
            "activation_25 (Activation)      (None, 14, 14, 1024) 0           add_8[0][0]                      \n",
            "__________________________________________________________________________________________________\n",
            "res4b_branch2a (Conv2D)         (None, 14, 14, 256)  262400      activation_25[0][0]              \n",
            "__________________________________________________________________________________________________\n",
            "bn4b_branch2a (BatchNormalizati (None, 14, 14, 256)  1024        res4b_branch2a[0][0]             \n",
            "__________________________________________________________________________________________________\n",
            "activation_26 (Activation)      (None, 14, 14, 256)  0           bn4b_branch2a[0][0]              \n",
            "__________________________________________________________________________________________________\n",
            "res4b_branch2b (Conv2D)         (None, 14, 14, 256)  590080      activation_26[0][0]              \n",
            "__________________________________________________________________________________________________\n",
            "bn4b_branch2b (BatchNormalizati (None, 14, 14, 256)  1024        res4b_branch2b[0][0]             \n",
            "__________________________________________________________________________________________________\n",
            "activation_27 (Activation)      (None, 14, 14, 256)  0           bn4b_branch2b[0][0]              \n",
            "__________________________________________________________________________________________________\n",
            "res4b_branch2c (Conv2D)         (None, 14, 14, 1024) 263168      activation_27[0][0]              \n",
            "__________________________________________________________________________________________________\n",
            "bn4b_branch2c (BatchNormalizati (None, 14, 14, 1024) 4096        res4b_branch2c[0][0]             \n",
            "__________________________________________________________________________________________________\n",
            "add_9 (Add)                     (None, 14, 14, 1024) 0           bn4b_branch2c[0][0]              \n",
            "                                                                 activation_25[0][0]              \n",
            "__________________________________________________________________________________________________\n",
            "activation_28 (Activation)      (None, 14, 14, 1024) 0           add_9[0][0]                      \n",
            "__________________________________________________________________________________________________\n",
            "res4c_branch2a (Conv2D)         (None, 14, 14, 256)  262400      activation_28[0][0]              \n",
            "__________________________________________________________________________________________________\n",
            "bn4c_branch2a (BatchNormalizati (None, 14, 14, 256)  1024        res4c_branch2a[0][0]             \n",
            "__________________________________________________________________________________________________\n",
            "activation_29 (Activation)      (None, 14, 14, 256)  0           bn4c_branch2a[0][0]              \n",
            "__________________________________________________________________________________________________\n",
            "res4c_branch2b (Conv2D)         (None, 14, 14, 256)  590080      activation_29[0][0]              \n",
            "__________________________________________________________________________________________________\n",
            "bn4c_branch2b (BatchNormalizati (None, 14, 14, 256)  1024        res4c_branch2b[0][0]             \n",
            "__________________________________________________________________________________________________\n",
            "activation_30 (Activation)      (None, 14, 14, 256)  0           bn4c_branch2b[0][0]              \n",
            "__________________________________________________________________________________________________\n",
            "res4c_branch2c (Conv2D)         (None, 14, 14, 1024) 263168      activation_30[0][0]              \n",
            "__________________________________________________________________________________________________\n",
            "bn4c_branch2c (BatchNormalizati (None, 14, 14, 1024) 4096        res4c_branch2c[0][0]             \n",
            "__________________________________________________________________________________________________\n",
            "add_10 (Add)                    (None, 14, 14, 1024) 0           bn4c_branch2c[0][0]              \n",
            "                                                                 activation_28[0][0]              \n",
            "__________________________________________________________________________________________________\n",
            "activation_31 (Activation)      (None, 14, 14, 1024) 0           add_10[0][0]                     \n",
            "__________________________________________________________________________________________________\n",
            "res4d_branch2a (Conv2D)         (None, 14, 14, 256)  262400      activation_31[0][0]              \n",
            "__________________________________________________________________________________________________\n",
            "bn4d_branch2a (BatchNormalizati (None, 14, 14, 256)  1024        res4d_branch2a[0][0]             \n",
            "__________________________________________________________________________________________________\n",
            "activation_32 (Activation)      (None, 14, 14, 256)  0           bn4d_branch2a[0][0]              \n",
            "__________________________________________________________________________________________________\n",
            "res4d_branch2b (Conv2D)         (None, 14, 14, 256)  590080      activation_32[0][0]              \n",
            "__________________________________________________________________________________________________\n",
            "bn4d_branch2b (BatchNormalizati (None, 14, 14, 256)  1024        res4d_branch2b[0][0]             \n",
            "__________________________________________________________________________________________________\n",
            "activation_33 (Activation)      (None, 14, 14, 256)  0           bn4d_branch2b[0][0]              \n",
            "__________________________________________________________________________________________________\n",
            "res4d_branch2c (Conv2D)         (None, 14, 14, 1024) 263168      activation_33[0][0]              \n",
            "__________________________________________________________________________________________________\n",
            "bn4d_branch2c (BatchNormalizati (None, 14, 14, 1024) 4096        res4d_branch2c[0][0]             \n",
            "__________________________________________________________________________________________________\n",
            "add_11 (Add)                    (None, 14, 14, 1024) 0           bn4d_branch2c[0][0]              \n",
            "                                                                 activation_31[0][0]              \n",
            "__________________________________________________________________________________________________\n",
            "activation_34 (Activation)      (None, 14, 14, 1024) 0           add_11[0][0]                     \n",
            "__________________________________________________________________________________________________\n",
            "res4e_branch2a (Conv2D)         (None, 14, 14, 256)  262400      activation_34[0][0]              \n",
            "__________________________________________________________________________________________________\n",
            "bn4e_branch2a (BatchNormalizati (None, 14, 14, 256)  1024        res4e_branch2a[0][0]             \n",
            "__________________________________________________________________________________________________\n",
            "activation_35 (Activation)      (None, 14, 14, 256)  0           bn4e_branch2a[0][0]              \n",
            "__________________________________________________________________________________________________\n",
            "res4e_branch2b (Conv2D)         (None, 14, 14, 256)  590080      activation_35[0][0]              \n",
            "__________________________________________________________________________________________________\n",
            "bn4e_branch2b (BatchNormalizati (None, 14, 14, 256)  1024        res4e_branch2b[0][0]             \n",
            "__________________________________________________________________________________________________\n",
            "activation_36 (Activation)      (None, 14, 14, 256)  0           bn4e_branch2b[0][0]              \n",
            "__________________________________________________________________________________________________\n",
            "res4e_branch2c (Conv2D)         (None, 14, 14, 1024) 263168      activation_36[0][0]              \n",
            "__________________________________________________________________________________________________\n",
            "bn4e_branch2c (BatchNormalizati (None, 14, 14, 1024) 4096        res4e_branch2c[0][0]             \n",
            "__________________________________________________________________________________________________\n",
            "add_12 (Add)                    (None, 14, 14, 1024) 0           bn4e_branch2c[0][0]              \n",
            "                                                                 activation_34[0][0]              \n",
            "__________________________________________________________________________________________________\n",
            "activation_37 (Activation)      (None, 14, 14, 1024) 0           add_12[0][0]                     \n",
            "__________________________________________________________________________________________________\n",
            "res4f_branch2a (Conv2D)         (None, 14, 14, 256)  262400      activation_37[0][0]              \n",
            "__________________________________________________________________________________________________\n",
            "bn4f_branch2a (BatchNormalizati (None, 14, 14, 256)  1024        res4f_branch2a[0][0]             \n",
            "__________________________________________________________________________________________________\n",
            "activation_38 (Activation)      (None, 14, 14, 256)  0           bn4f_branch2a[0][0]              \n",
            "__________________________________________________________________________________________________\n",
            "res4f_branch2b (Conv2D)         (None, 14, 14, 256)  590080      activation_38[0][0]              \n",
            "__________________________________________________________________________________________________\n",
            "bn4f_branch2b (BatchNormalizati (None, 14, 14, 256)  1024        res4f_branch2b[0][0]             \n",
            "__________________________________________________________________________________________________\n",
            "activation_39 (Activation)      (None, 14, 14, 256)  0           bn4f_branch2b[0][0]              \n",
            "__________________________________________________________________________________________________\n",
            "res4f_branch2c (Conv2D)         (None, 14, 14, 1024) 263168      activation_39[0][0]              \n",
            "__________________________________________________________________________________________________\n",
            "bn4f_branch2c (BatchNormalizati (None, 14, 14, 1024) 4096        res4f_branch2c[0][0]             \n",
            "__________________________________________________________________________________________________\n",
            "add_13 (Add)                    (None, 14, 14, 1024) 0           bn4f_branch2c[0][0]              \n",
            "                                                                 activation_37[0][0]              \n",
            "__________________________________________________________________________________________________\n",
            "activation_40 (Activation)      (None, 14, 14, 1024) 0           add_13[0][0]                     \n",
            "__________________________________________________________________________________________________\n",
            "res5a_branch2a (Conv2D)         (None, 7, 7, 512)    524800      activation_40[0][0]              \n",
            "__________________________________________________________________________________________________\n",
            "bn5a_branch2a (BatchNormalizati (None, 7, 7, 512)    2048        res5a_branch2a[0][0]             \n",
            "__________________________________________________________________________________________________\n",
            "activation_41 (Activation)      (None, 7, 7, 512)    0           bn5a_branch2a[0][0]              \n",
            "__________________________________________________________________________________________________\n",
            "res5a_branch2b (Conv2D)         (None, 7, 7, 512)    2359808     activation_41[0][0]              \n",
            "__________________________________________________________________________________________________\n",
            "bn5a_branch2b (BatchNormalizati (None, 7, 7, 512)    2048        res5a_branch2b[0][0]             \n",
            "__________________________________________________________________________________________________\n",
            "activation_42 (Activation)      (None, 7, 7, 512)    0           bn5a_branch2b[0][0]              \n",
            "__________________________________________________________________________________________________\n",
            "res5a_branch2c (Conv2D)         (None, 7, 7, 2048)   1050624     activation_42[0][0]              \n",
            "__________________________________________________________________________________________________\n",
            "res5a_branch1 (Conv2D)          (None, 7, 7, 2048)   2099200     activation_40[0][0]              \n",
            "__________________________________________________________________________________________________\n",
            "bn5a_branch2c (BatchNormalizati (None, 7, 7, 2048)   8192        res5a_branch2c[0][0]             \n",
            "__________________________________________________________________________________________________\n",
            "bn5a_branch1 (BatchNormalizatio (None, 7, 7, 2048)   8192        res5a_branch1[0][0]              \n",
            "__________________________________________________________________________________________________\n",
            "add_14 (Add)                    (None, 7, 7, 2048)   0           bn5a_branch2c[0][0]              \n",
            "                                                                 bn5a_branch1[0][0]               \n",
            "__________________________________________________________________________________________________\n",
            "activation_43 (Activation)      (None, 7, 7, 2048)   0           add_14[0][0]                     \n",
            "__________________________________________________________________________________________________\n",
            "res5b_branch2a (Conv2D)         (None, 7, 7, 512)    1049088     activation_43[0][0]              \n",
            "__________________________________________________________________________________________________\n",
            "bn5b_branch2a (BatchNormalizati (None, 7, 7, 512)    2048        res5b_branch2a[0][0]             \n",
            "__________________________________________________________________________________________________\n",
            "activation_44 (Activation)      (None, 7, 7, 512)    0           bn5b_branch2a[0][0]              \n",
            "__________________________________________________________________________________________________\n",
            "res5b_branch2b (Conv2D)         (None, 7, 7, 512)    2359808     activation_44[0][0]              \n",
            "__________________________________________________________________________________________________\n",
            "bn5b_branch2b (BatchNormalizati (None, 7, 7, 512)    2048        res5b_branch2b[0][0]             \n",
            "__________________________________________________________________________________________________\n",
            "activation_45 (Activation)      (None, 7, 7, 512)    0           bn5b_branch2b[0][0]              \n",
            "__________________________________________________________________________________________________\n",
            "res5b_branch2c (Conv2D)         (None, 7, 7, 2048)   1050624     activation_45[0][0]              \n",
            "__________________________________________________________________________________________________\n",
            "bn5b_branch2c (BatchNormalizati (None, 7, 7, 2048)   8192        res5b_branch2c[0][0]             \n",
            "__________________________________________________________________________________________________\n",
            "add_15 (Add)                    (None, 7, 7, 2048)   0           bn5b_branch2c[0][0]              \n",
            "                                                                 activation_43[0][0]              \n",
            "__________________________________________________________________________________________________\n",
            "activation_46 (Activation)      (None, 7, 7, 2048)   0           add_15[0][0]                     \n",
            "__________________________________________________________________________________________________\n",
            "res5c_branch2a (Conv2D)         (None, 7, 7, 512)    1049088     activation_46[0][0]              \n",
            "__________________________________________________________________________________________________\n",
            "bn5c_branch2a (BatchNormalizati (None, 7, 7, 512)    2048        res5c_branch2a[0][0]             \n",
            "__________________________________________________________________________________________________\n",
            "activation_47 (Activation)      (None, 7, 7, 512)    0           bn5c_branch2a[0][0]              \n",
            "__________________________________________________________________________________________________\n",
            "res5c_branch2b (Conv2D)         (None, 7, 7, 512)    2359808     activation_47[0][0]              \n",
            "__________________________________________________________________________________________________\n",
            "bn5c_branch2b (BatchNormalizati (None, 7, 7, 512)    2048        res5c_branch2b[0][0]             \n",
            "__________________________________________________________________________________________________\n",
            "activation_48 (Activation)      (None, 7, 7, 512)    0           bn5c_branch2b[0][0]              \n",
            "__________________________________________________________________________________________________\n",
            "res5c_branch2c (Conv2D)         (None, 7, 7, 2048)   1050624     activation_48[0][0]              \n",
            "__________________________________________________________________________________________________\n",
            "bn5c_branch2c (BatchNormalizati (None, 7, 7, 2048)   8192        res5c_branch2c[0][0]             \n",
            "__________________________________________________________________________________________________\n",
            "add_16 (Add)                    (None, 7, 7, 2048)   0           bn5c_branch2c[0][0]              \n",
            "                                                                 activation_46[0][0]              \n",
            "__________________________________________________________________________________________________\n",
            "activation_49 (Activation)      (None, 7, 7, 2048)   0           add_16[0][0]                     \n",
            "__________________________________________________________________________________________________\n",
            "flatten_1 (Flatten)             (None, 100352)       0           activation_49[0][0]              \n",
            "__________________________________________________________________________________________________\n",
            "dense_1 (Dense)                 (None, 20)           2007060     flatten_1[0][0]                  \n",
            "==================================================================================================\n",
            "Total params: 25,594,772\n",
            "Trainable params: 25,541,652\n",
            "Non-trainable params: 53,120\n",
            "__________________________________________________________________________________________________\n"
          ],
          "name": "stdout"
        },
        {
          "output_type": "stream",
          "text": [
            "/usr/local/lib/python3.6/dist-packages/keras_applications/resnet50.py:265: UserWarning: The output shape of `ResNet50(include_top=False)` has been changed since Keras 2.2.0.\n",
            "  warnings.warn('The output shape of `ResNet50(include_top=False)` '\n",
            "/usr/local/lib/python3.6/dist-packages/ipykernel_launcher.py:16: UserWarning: Update your `Model` call to the Keras 2 API: `Model(inputs=Tensor(\"in..., outputs=Tensor(\"de...)`\n",
            "  app.launch_new_instance()\n"
          ],
          "name": "stderr"
        }
      ]
    },
    {
      "cell_type": "markdown",
      "metadata": {
        "id": "l00fKsfjDDYb"
      },
      "source": [
        "###3.1.2) Training the model"
      ]
    },
    {
      "cell_type": "markdown",
      "metadata": {
        "id": "CP9bmxWno_Hn"
      },
      "source": [
        "We have trained the model previously — so, downloading the model details from a public Dropbox folder and loading it instead."
      ]
    },
    {
      "cell_type": "code",
      "metadata": {
        "id": "UtBGgjqatF9I",
        "outputId": "36ec1eb1-2900-4666-fc64-5ab79d223b68",
        "colab": {
          "base_uri": "https://localhost:8080/",
          "height": 54
        }
      },
      "source": [
        "\"\"\"\"\n",
        "#Train the model\n",
        "cnn_train = cmodel.fit_generator(aug.flow(trainX, trainY, batch_size=batch_size),\n",
        "                    steps_per_epoch=len(trainX) // 32,\n",
        "                    class_weight=class_weights,\n",
        "                    epochs=epochs,\n",
        "                    verbose=1,\n",
        "                    validation_data=(valX, valY),\n",
        "                    callbacks=callbacks,\n",
        "                    shuffle=True)\n",
        "\"\"\"                    "
      ],
      "execution_count": null,
      "outputs": [
        {
          "output_type": "execute_result",
          "data": {
            "text/plain": [
              "'\"\\n#Train the model\\ncnn_train = cmodel.fit_generator(aug.flow(trainX, trainY, batch_size=batch_size),\\n                    steps_per_epoch=len(trainX) // 32,\\n                    class_weight=class_weights,\\n                    epochs=epochs,\\n                    verbose=1,\\n                    validation_data=(valX, valY),\\n                    callbacks=callbacks,\\n                    shuffle=True)\\n'"
            ]
          },
          "metadata": {
            "tags": []
          },
          "execution_count": 20
        }
      ]
    },
    {
      "cell_type": "markdown",
      "metadata": {
        "id": "WnzM_V37DLiU"
      },
      "source": [
        "###3.1.3) Serializing, Saving to and Loading from Drive"
      ]
    },
    {
      "cell_type": "markdown",
      "metadata": {
        "id": "Mbrw7XqBpTzr"
      },
      "source": [
        "We have already saved the model - just loading it here."
      ]
    },
    {
      "cell_type": "code",
      "metadata": {
        "id": "iSbOVzLKrvVs",
        "outputId": "48721261-7e92-4fa1-93bc-3e9e4bf263d5",
        "colab": {
          "base_uri": "https://localhost:8080/",
          "height": 54
        }
      },
      "source": [
        "\"\"\"\"\n",
        "#Saving the model to Google Drive\n",
        "from google.colab import drive\n",
        "drive.mount('/content/gdrive',force_remount=True)\n",
        "model_save_name = 'class_model.h5'\n",
        "path = F\"/content/gdrive/My Drive/{model_save_name}\" \n",
        "fp = open(path,\"w\")\n",
        "fp.write('hello')\n",
        "fp.close()\n",
        "cmodel.save(path)\n",
        "\"\"\""
      ],
      "execution_count": null,
      "outputs": [
        {
          "output_type": "execute_result",
          "data": {
            "text/plain": [
              "'\"\\n#Saving the model to Google Drive\\nfrom google.colab import drive\\ndrive.mount(\\'/content/gdrive\\',force_remount=True)\\nmodel_save_name = \\'class_model.h5\\'\\npath = F\"/content/gdrive/My Drive/{model_save_name}\" \\nfp = open(path,\"w\")\\nfp.write(\\'hello\\')\\nfp.close()\\ncmodel.save(path)\\n'"
            ]
          },
          "metadata": {
            "tags": []
          },
          "execution_count": 21
        }
      ]
    },
    {
      "cell_type": "code",
      "metadata": {
        "id": "WY-rSmE5Cecc",
        "outputId": "878f7c92-049a-42e9-ef1f-d767347c0d17",
        "colab": {
          "base_uri": "https://localhost:8080/",
          "height": 88
        }
      },
      "source": [
        "#Loading the model from Google Drive\n",
        "cmodel = load_model('scratch_model.h5', custom_objects={\"get_precision\": get_precision, \"get_recall\" : get_recall, \"get_f1\" : get_f1})\n",
        "\n",
        "predictions = cmodel.predict(valX)\n",
        "results = cmodel.evaluate(valX,valY)"
      ],
      "execution_count": null,
      "outputs": [
        {
          "output_type": "stream",
          "text": [
            "/usr/local/lib/python3.6/dist-packages/keras/engine/saving.py:384: UserWarning: Error in loading the saved optimizer state. As a result, your model is starting with a freshly initialized optimizer.\n",
            "  warnings.warn('Error in loading the saved optimizer '\n"
          ],
          "name": "stderr"
        },
        {
          "output_type": "stream",
          "text": [
            "3581/3581 [==============================] - 41s 11ms/step\n"
          ],
          "name": "stdout"
        }
      ]
    },
    {
      "cell_type": "code",
      "metadata": {
        "id": "9KonIXrKDOgt",
        "colab": {
          "base_uri": "https://localhost:8080/",
          "height": 479
        },
        "outputId": "90b92eb2-8a7c-488a-fcef-f0a70ec734b1"
      },
      "source": [
        "#Code for class wise accuracy\n",
        "from sklearn.metrics import recall_score, precision_score\n",
        "\n",
        "class_list = [\"aeroplane\", \"bicycle\", \"bird\", \"boat\", \"bottle\", \n",
        "            \"bus\", \"car\", \"cat\", \"chair\",\"cow\", \"diningtable\", \n",
        "            \"dog\", \"horse\", \"motorbike\", \"person\", \"pottedplant\", \"sheep\",\"sofa\",\"train\",\n",
        "            \"tvmonitor\"]\n",
        "\n",
        "prec=np.zeros(len(class_list))\n",
        "recall=np.zeros(len(class_list))\n",
        "preds = (predictions>0.5)\n",
        "tcnt = np.sum((valY==preds),axis=0)\n",
        "acc=tcnt/float(valY.shape[0])*100\n",
        "for i in range(len(class_list)):\n",
        "    recall[i] = recall_score(valY[:,i],preds[:,i])*100\n",
        "    prec[i] = precision_score(valY[:,i],preds[:,i])*100\n",
        "x = PrettyTable()\n",
        "x.field_names = ['Class', 'Accuracy']\n",
        "\n",
        "\n",
        "for i in range(len(class_list)):\n",
        "  x.add_row([class_list[i],\n",
        "             str(np.round(acc[i],2))+\"%\",\n",
        "            \n",
        "             ])\n",
        "\n",
        "#Display the table\n",
        "print(x)\n",
        "\n",
        "#Delete the table to free up memory\n",
        "del x\n",
        "\n"
      ],
      "execution_count": null,
      "outputs": [
        {
          "output_type": "stream",
          "text": [
            "+-------------+----------+\n",
            "|    Class    | Accuracy |\n",
            "+-------------+----------+\n",
            "|  aeroplane  |  93.8%   |\n",
            "|   bicycle   |  94.83%  |\n",
            "|     bird    |  93.13%  |\n",
            "|     boat    |  95.56%  |\n",
            "|    bottle   |  94.0%   |\n",
            "|     bus     |  95.78%  |\n",
            "|     car     |  89.44%  |\n",
            "|     cat     |  92.26%  |\n",
            "|    chair    |  89.36%  |\n",
            "|     cow     |  97.46%  |\n",
            "| diningtable |  95.09%  |\n",
            "|     dog     |  90.7%   |\n",
            "|    horse    |  95.34%  |\n",
            "|  motorbike  |  95.0%   |\n",
            "|    person   |  60.43%  |\n",
            "| pottedplant |  95.17%  |\n",
            "|    sheep    |  98.18%  |\n",
            "|     sofa    |  94.55%  |\n",
            "|    train    |  95.53%  |\n",
            "|  tvmonitor  |  94.95%  |\n",
            "+-------------+----------+\n"
          ],
          "name": "stdout"
        },
        {
          "output_type": "stream",
          "text": [
            "/usr/local/lib/python3.6/dist-packages/sklearn/metrics/_classification.py:1272: UndefinedMetricWarning: Precision is ill-defined and being set to 0.0 due to no predicted samples. Use `zero_division` parameter to control this behavior.\n",
            "  _warn_prf(average, modifier, msg_start, len(result))\n"
          ],
          "name": "stderr"
        }
      ]
    },
    {
      "cell_type": "markdown",
      "metadata": {
        "id": "4Wa3vDhsDTcx"
      },
      "source": [
        "###3.1.4) Evaluating the model"
      ]
    },
    {
      "cell_type": "markdown",
      "metadata": {
        "id": "7keeTEopDiY9"
      },
      "source": [
        "Visualise the error and accuracy on training & validation set."
      ]
    },
    {
      "cell_type": "code",
      "metadata": {
        "id": "VOGoQxIj3usN"
      },
      "source": [
        "scratch_history = json.load(open(\"scratch_hist.json\", 'r'))\n",
        "\n",
        "# Plot accuracy result\n",
        "plt.plot(scratch_history['acc'])\n",
        "plt.plot(scratch_history['val_acc'])\n",
        "plt.title('Model accuracy plot')\n",
        "plt.ylabel('Accuracy')\n",
        "plt.xlabel('Epoch')\n",
        "plt.legend(['train', 'test'], loc='lower right')\n",
        "plt.show()\n",
        "\n",
        "# Plot loss result\n",
        "plt.plot(scratch_history['loss'])\n",
        "plt.plot(scratch_history['val_loss'])\n",
        "plt.title('model loss plot')\n",
        "plt.ylabel('Loss')\n",
        "plt.xlabel('Epoch')\n",
        "plt.legend(['train', 'test'], loc='upper right')\n",
        "plt.show()"
      ],
      "execution_count": null,
      "outputs": []
    },
    {
      "cell_type": "markdown",
      "metadata": {
        "id": "Z3srVanrDs8u"
      },
      "source": [
        "Visualise the precision-recall curve for the classifier. Additionally, visualise the curves for each of the individual classes."
      ]
    },
    {
      "cell_type": "code",
      "metadata": {
        "id": "DzQO81vxwOnB"
      },
      "source": [
        "#Plot Precision-Recall curves as ranked metrics to understand the benefits of\n",
        "#using  \n",
        "from sklearn.metrics import precision_recall_curve, average_precision_score\n",
        "\n",
        "#Compute and display the average precision score for each class\n",
        "precision = dict()\n",
        "recall = dict()\n",
        "average_precision = dict()\n",
        "for i in range(20):\n",
        "    precision[i], recall[i], _ = precision_recall_curve(valY[:, i],\n",
        "                                                        predictions[:, i])\n",
        "    average_precision[i] = average_precision_score(valY[:, i], predictions[:, i])\n",
        "    print(\"[INFO] Average precision score for class {}: {:0.2f}\".\n",
        "          format(class_list[i], average_precision[i]))\n",
        "\n",
        "#A \"micro-average\": quantifying score on all classes jointly\n",
        "precision[\"micro\"], recall[\"micro\"], _ = precision_recall_curve(valY.ravel(),\n",
        "    predictions.ravel())\n",
        "average_precision[\"micro\"] = average_precision_score(valY, predictions,average=\"micro\")\n",
        "print('[INFO] Average precision score, micro-averaged over all classes: {0:0.2f}\\n'\n",
        "      .format(average_precision[\"micro\"]))\n",
        "\n",
        "#Plot the micro-average precision-recall diagram\n",
        "plt.figure()\n",
        "plt.step(recall['micro'], precision['micro'], where='post')\n",
        "plt.xlabel('Recall')\n",
        "plt.ylabel('Precision')\n",
        "plt.ylim([0.0, 1.05])\n",
        "plt.xlim([0.0, 1.0])\n",
        "plt.title('Average precision score, micro-averaged over all classes: AP={0:0.2f}'\n",
        "    .format(average_precision[\"micro\"]))\n",
        "\n",
        "# setup plot details\n",
        "colors = itertools.cycle(['black', 'darkorange', 'forestgreen', 'cornflowerblue', 'slategrey',\n",
        "                'rosybrown','darkgoldenrod', 'springgreen', 'navy','moccasin',\n",
        "                'aquamarine','maroon','olive','teal','yellow','orangered',\n",
        "                'sandybrown','fuchsia','chocolate','steelblue','seagreen'])\n",
        "\n",
        "plt.figure(figsize=(20, 10))\n",
        "f_scores = np.linspace(0.2, 0.8, num=4)\n",
        "lines = []\n",
        "labels = []\n",
        "\n",
        "for f_score in f_scores:\n",
        "    x = np.linspace(0.01, 1)\n",
        "    y = f_score * x / (2 * x - f_score)\n",
        "    l, = plt.plot(x[y >= 0], y[y >= 0], color='gray', alpha=0.2)\n",
        "    plt.annotate('f1={0:0.1f}'.format(f_score), xy=(0.9, y[45] + 0.02))\n",
        "\n",
        "l, = plt.plot(recall[\"micro\"], precision[\"micro\"], color='lawngreen', lw=2)\n",
        "lines.append(l)\n",
        "labels.append('Micro-average across classes (area = {0:0.2f})'.format(average_precision[\"micro\"]))\n",
        "\n",
        "for i, color in zip(range(20), colors):\n",
        "    l, = plt.plot(recall[i], precision[i], color=color, lw=2)\n",
        "    lines.append(l)\n",
        "    labels.append('{0} (area = {1:0.2f})'\n",
        "                  ''.format(class_list[i], average_precision[i]))\n",
        "    \n",
        "fig = plt.gcf()\n",
        "plt.xlim([0.0, 1.0])\n",
        "plt.ylim([0.0, 1.05])\n",
        "plt.xlabel('Recall', fontsize=14)\n",
        "plt.ylabel('Precision', fontsize=14)\n",
        "plt.title('Precision-Recall Curves', fontsize=20)\n",
        "plt.legend(lines, labels, loc='upper center', prop=dict(size=14), \n",
        "           ncol=3, fancybox=True, shadow=True)\n",
        "plt.show()"
      ],
      "execution_count": null,
      "outputs": []
    },
    {
      "cell_type": "markdown",
      "metadata": {
        "id": "trfqTgXO6ejf"
      },
      "source": [
        "As expected, most classes have sub-standard f1 scores. We further iterate the importance of having sufficently balanced datasets."
      ]
    },
    {
      "cell_type": "markdown",
      "metadata": {
        "id": "8NMu-sIciMbX"
      },
      "source": [
        "## 3.2) Transfer Learning"
      ]
    },
    {
      "cell_type": "markdown",
      "metadata": {
        "id": "AzCNftYl9H8c"
      },
      "source": [
        "We will use the same architecture but initialize weights to `imagenet`, slice the network head off to create the base model, freeze the base model layers and add a new trainable head to the model."
      ]
    },
    {
      "cell_type": "markdown",
      "metadata": {
        "id": "H6fsV7vbD7qT"
      },
      "source": [
        "###3.2.1) Compiling the model"
      ]
    },
    {
      "cell_type": "code",
      "metadata": {
        "id": "23xWqocf9eKP"
      },
      "source": [
        "#Load the basemodel - Ensure that the head layers are cut off\n",
        "baseModel = ResNet50(weights=\"imagenet\", include_top=False, input_shape=(224, 224, 3))\n",
        "\n",
        "#Construct the new head layer\n",
        "headModel = baseModel.output\n",
        "headModel = Flatten(name=\"flatten\")(headModel)\n",
        "headModel = Dense(256, activation=\"relu\")(headModel)\n",
        "headModel = Dropout(0.5)(headModel)\n",
        "#Add a final sigmoid layer\n",
        "headModel = Dense(num_classes, activation=\"sigmoid\")(headModel)\n",
        "\n",
        "#Place this new head on top of our base model\n",
        "transfer_model = Model(inputs=baseModel.input, outputs=headModel)\n",
        "\n",
        "#Freeze all the internal layers to preserve the Imagenet weights\n",
        "for layer in baseModel.layers:\n",
        "  layer.trainable = False\n",
        "\n",
        "#Compiling the model\n",
        "print(\"[INFO] Compiling the model...\")\n",
        "transfer_model.compile(optimizer='adam', loss=\"binary_crossentropy\",\n",
        "               metrics=['accuracy',get_precision, get_recall, get_f1])\n",
        "transfer_model.summary()\n",
        "print(\"[INFO] Compilation succesful!\")"
      ],
      "execution_count": null,
      "outputs": []
    },
    {
      "cell_type": "markdown",
      "metadata": {
        "id": "FbwJ8Bz5EJ_3"
      },
      "source": [
        "###3.2.2) Training the model"
      ]
    },
    {
      "cell_type": "code",
      "metadata": {
        "id": "tEAyMAiOECoR"
      },
      "source": [
        "\"\"\"\"\n",
        "#Training the model\n",
        "print(\"[INFO] Training the head...\")\n",
        "cnn_transfer_train = model.fit_generator(aug.flow(trainX, trainY, batch_size=batch_size),\n",
        "                                         steps_per_epoch=len(trainX) // 32,\n",
        "                                         class_weight=class_weights,\n",
        "                                         epochs=epochs,\n",
        "                                         verbose=1,\n",
        "                                         validation_data=(valX, valY),\n",
        "                                         callbacks=callbacks, \n",
        "                                         shuffle=True)\n",
        "print(\"[INFO] Training succesful!\")\n",
        "\"\"\""
      ],
      "execution_count": null,
      "outputs": []
    },
    {
      "cell_type": "markdown",
      "metadata": {
        "id": "I-hSQgYZENOy"
      },
      "source": [
        "###3.2.3) Serializing, Saving to and Loading from Drive"
      ]
    },
    {
      "cell_type": "code",
      "metadata": {
        "id": "aiHb_M1pCNIF"
      },
      "source": [
        "\"\"\"\n",
        "#Saving the model to Google Drive\n",
        "from google.colab import drive\n",
        "drive.mount('/content/gdrive',force_remount=True)\n",
        "model_save_name = 'transfer_warmup_model.h5'\n",
        "path = F\"/content/gdrive/My Drive/{model_save_name}\" \n",
        "fp = open(path,\"w\")\n",
        "fp.write('hello')\n",
        "fp.close()\n",
        "transfer_model.save(path)\n",
        "\"\"\""
      ],
      "execution_count": null,
      "outputs": []
    },
    {
      "cell_type": "code",
      "metadata": {
        "id": "Ytmo_2TM9TY4"
      },
      "source": [
        "#Loading the model from Google Drive\n",
        "transfer_model = load_model('transfer_warmup_model.h5', custom_objects={    \n",
        "    \"get_precision\": get_precision,\n",
        "    \"get_recall\" : get_recall,\n",
        "    \"get_f1\" : get_f1})\n",
        "   \n",
        "predictions = transfer_model.predict(valX)\n",
        "results = transfer_model.evaluate(valX,valY)"
      ],
      "execution_count": null,
      "outputs": []
    },
    {
      "cell_type": "markdown",
      "metadata": {
        "id": "8uf6SFw5ERTW"
      },
      "source": [
        "###3.2.4) Evaluating the model"
      ]
    },
    {
      "cell_type": "markdown",
      "metadata": {
        "id": "2W4CDtqYEWwL"
      },
      "source": [
        "Visualise the error and accuracy on training & validation set."
      ]
    },
    {
      "cell_type": "code",
      "metadata": {
        "id": "VB7Ebc6fCpVP"
      },
      "source": [
        "transfer_history = json.load(open(\"transfer_warmup_hist.json\", 'r'))\n",
        "\n",
        "# Plot accuracy result\n",
        "plt.plot(transfer_history['acc'])\n",
        "plt.plot(transfer_history['val_acc'])\n",
        "plt.title('model accuracy plot')\n",
        "plt.ylabel('Accuracy')\n",
        "plt.xlabel('Epoch')\n",
        "plt.legend(['train', 'test'], loc='lower right')\n",
        "plt.show()\n",
        "\n",
        "# Plot loss result\n",
        "plt.plot(transfer_history['loss'])\n",
        "plt.plot(transfer_history['val_loss'])\n",
        "plt.title('model loss plot')\n",
        "plt.ylabel('Loss')\n",
        "plt.xlabel('Epoch')\n",
        "plt.legend(['train', 'test'], loc='upper right')\n",
        "plt.show()"
      ],
      "execution_count": null,
      "outputs": []
    },
    {
      "cell_type": "markdown",
      "metadata": {
        "id": "oR-NdQ7UEZvl"
      },
      "source": [
        "Visualise the precision-recall curve for the classifier. Additionally, visualise the curves for each of the individual classes."
      ]
    },
    {
      "cell_type": "code",
      "metadata": {
        "id": "DBxRXfkdCs1N"
      },
      "source": [
        "#Plot Precision-Recall curves as ranked metrics to understand the benefits of\n",
        "#Compute and display the average precision score for each class\n",
        "precision = dict()\n",
        "recall = dict()\n",
        "average_precision = dict()\n",
        "for i in range(20):\n",
        "    precision[i], recall[i], _ = precision_recall_curve(valY[:, i],\n",
        "                                                        predictions[:, i])\n",
        "    average_precision[i] = average_precision_score(valY[:, i], predictions[:, i])\n",
        "    print(\"[INFO] Average precision score for class {}: {:0.2f}\".\n",
        "          format(class_list[i], average_precision[i]))\n",
        "\n",
        "#A \"micro-average\": quantifying score on all classes jointly\n",
        "precision[\"micro\"], recall[\"micro\"], _ = precision_recall_curve(valY.ravel(),\n",
        "    predictions.ravel())\n",
        "average_precision[\"micro\"] = average_precision_score(valY, predictions,average=\"micro\")\n",
        "print('[INFO] Average precision score, micro-averaged over all classes: {0:0.2f}\\n'\n",
        "      .format(average_precision[\"micro\"]))\n",
        "\n",
        "#Plot the micro-average precision-recall diagram\n",
        "plt.figure()\n",
        "plt.step(recall['micro'], precision['micro'], where='post')\n",
        "plt.xlabel('Recall')\n",
        "plt.ylabel('Precision')\n",
        "plt.ylim([0.0, 1.05])\n",
        "plt.xlim([0.0, 1.0])\n",
        "plt.title('Average precision score, micro-averaged over all classes: AP={0:0.2f}'\n",
        "    .format(average_precision[\"micro\"]))\n",
        "\n",
        "# setup plot details\n",
        "colors = itertools.cycle(['black', 'darkorange', 'forestgreen', 'cornflowerblue', 'slategrey',\n",
        "                'rosybrown','darkgoldenrod', 'springgreen', 'navy','moccasin',\n",
        "                'aquamarine','maroon','olive','teal','yellow','orangered',\n",
        "                'sandybrown','fuchsia','chocolate','steelblue','seagreen'])\n",
        "\n",
        "plt.figure(figsize=(20, 10))\n",
        "f_scores = np.linspace(0.2, 0.8, num=4)\n",
        "lines = []\n",
        "labels = []\n",
        "\n",
        "for f_score in f_scores:\n",
        "    x = np.linspace(0.01, 1)\n",
        "    y = f_score * x / (2 * x - f_score)\n",
        "    l, = plt.plot(x[y >= 0], y[y >= 0], color='gray', alpha=0.2)\n",
        "    plt.annotate('f1={0:0.1f}'.format(f_score), xy=(0.9, y[45] + 0.02))\n",
        "\n",
        "l, = plt.plot(recall[\"micro\"], precision[\"micro\"], color='lawngreen', lw=2)\n",
        "lines.append(l)\n",
        "labels.append('Micro-average across classes (area = {0:0.2f})'.format(average_precision[\"micro\"]))\n",
        "\n",
        "for i, color in zip(range(20), colors):\n",
        "    l, = plt.plot(recall[i], precision[i], color=color, lw=2)\n",
        "    lines.append(l)\n",
        "    labels.append('{0} (area = {1:0.2f})'\n",
        "                  ''.format(class_list[i], average_precision[i]))\n",
        "    \n",
        "fig = plt.gcf()\n",
        "plt.xlim([0.0, 1.0])\n",
        "plt.ylim([0.0, 1.05])\n",
        "plt.xlabel('Recall', fontsize=14)\n",
        "plt.ylabel('Precision', fontsize=14)\n",
        "plt.title('Precision-Recall Curves', fontsize=20)\n",
        "plt.legend(lines, labels, loc='upper center', prop=dict(size=14), \n",
        "           ncol=3, fancybox=True, shadow=True)\n",
        "plt.show()\n"
      ],
      "execution_count": null,
      "outputs": []
    },
    {
      "cell_type": "markdown",
      "metadata": {
        "id": "f3X3jWcl8EyN"
      },
      "source": [
        "## 3.3) Improving Transfer Learning"
      ]
    },
    {
      "cell_type": "markdown",
      "metadata": {
        "id": "M1V1WBRU8Kfo"
      },
      "source": [
        "In transfer learning, we remove the head from the base model, freeze all layers, add a new head and then train the model (for 150 epochs). \n",
        "\n",
        "We propose an improvement to this strategy.\n",
        "\n",
        "We perform the above strategy but train the model only for 30 epochs. This causes the head of the model to \"warm up\" to our dataset. After that, we unfreeze a few of the final layers and train our warmed-up model for another 150 epochs to make the errors backpropogate deeper!"
      ]
    },
    {
      "cell_type": "markdown",
      "metadata": {
        "id": "33wRsQcO9IS3"
      },
      "source": [
        "###3.3.1) Warm-up Phase"
      ]
    },
    {
      "cell_type": "code",
      "metadata": {
        "id": "NW3wLI849OZh"
      },
      "source": [
        "#Load the basemodel - Ensure that the head layers are cut off\n",
        "baseModel = ResNet50(weights=\"imagenet\", include_top=False, input_shape=(224, 224, 3))\n",
        "#baseModel = VGG16(weights=\"imagenet\", include_top=False, input_shape=(224, 224, 3))\n",
        "\n",
        "#Construct the new head layer\n",
        "headModel = baseModel.output\n",
        "headModel = Flatten(name=\"flatten\")(headModel)\n",
        "headModel = Dense(256, activation=\"relu\")(headModel)\n",
        "headModel = Dropout(0.5)(headModel)\n",
        "#Add a final sigmoid layer\n",
        "headModel = Dense(num_classes, activation=\"sigmoid\")(headModel)\n",
        "\n",
        "#Place this new head on top of our base model\n",
        "transfer_model2 = Model(inputs=baseModel.input, outputs=headModel)\n",
        "\n",
        "#Freeze all the internal layers to preserve the Imagenet weights\n",
        "for layer in baseModel.layers:\n",
        "  layer.trainable = False\n",
        "\n",
        "#Compiling the model\n",
        "print(\"[INFO] Compiling the model...\")\n",
        "transfer_model2.compile(optimizer='adam', loss=\"binary_crossentropy\",\n",
        "               metrics=['accuracy',get_precision, get_recall, get_f1])\n",
        "print(\"[INFO] Compilation succesful!\")\n",
        "\n",
        "\"\"\"###3.2.2) Training the model\"\"\n",
        "\n",
        "#Training the model\n",
        "print(\"[INFO] Training the head...\")\n",
        "head = transfer_model2.fit_generator(aug.flow(trainX, trainY, batch_size=batch_size),\n",
        "                                         steps_per_epoch=len(trainX) // 32,\n",
        "                                         epochs=30,\n",
        "                                         verbose=1,\n",
        "                                         validation_data=(valX, valY),\n",
        "                                         shuffle=True)\n",
        "print(\"[INFO] Warm Training succesful!\")\n",
        "\"\"\""
      ],
      "execution_count": null,
      "outputs": []
    },
    {
      "cell_type": "markdown",
      "metadata": {
        "id": "pd-wgI1O9PFG"
      },
      "source": [
        "###3.3.2) Main Training Phase"
      ]
    },
    {
      "cell_type": "code",
      "metadata": {
        "id": "mDQwcBHT9aRF"
      },
      "source": [
        "# now that the head FC layers have been trained/initialized, lets\n",
        "# unfreeze the last 2 sets of CONV layers and make them trainable\n",
        "for layer in baseModel.layers[168:]:\n",
        "    layer.trainable = True\n",
        "\n",
        "\n",
        "print(\"[INFO] Re-compiling model...\")\n",
        "transfer_model2.compile(optimizer='adam', loss='binary_crossentropy',\n",
        "               metrics=['accuracy',get_precision, get_recall, get_f1])\n",
        "\"\"\"\n",
        "print(\"[INFO] fine-tuning model...\")\n",
        "full = transfer_model2.fit_generator(aug.flow(trainX, trainY, batch_size=batch_size),\n",
        "                    validation_data=(valX, valY),\n",
        "                    verbose=1,\n",
        "                    epochs=150,\n",
        "                    steps_per_epoch=len(trainX) // 32, \n",
        "                    callbacks=callbacks,\n",
        "                    shuffle=True)\n",
        "print(\"[INFO] fine-tuning done!\")\n",
        "\"\"\""
      ],
      "execution_count": null,
      "outputs": []
    },
    {
      "cell_type": "markdown",
      "metadata": {
        "id": "HGaJllBN9Uic"
      },
      "source": [
        "###3.3.3) Serializing, Saving to and Loading from Drive"
      ]
    },
    {
      "cell_type": "code",
      "metadata": {
        "id": "lOcvvqAJAXDi"
      },
      "source": [
        "\"\"\"\n",
        "#Saving the model to Google Drive\n",
        "from google.colab import drive\n",
        "drive.mount('/content/gdrive',force_remount=True)\n",
        "model_save_name = 'transfer_warmup_model.h5'\n",
        "path = F\"/content/gdrive/My Drive/{model_save_name}\" \n",
        "fp = open(path,\"w\")\n",
        "fp.write('hello')\n",
        "fp.close()\n",
        "transfer_model2.save(path)\n",
        "\"\"\""
      ],
      "execution_count": null,
      "outputs": []
    },
    {
      "cell_type": "code",
      "metadata": {
        "id": "GjvZrQvoAcP0"
      },
      "source": [
        "#Loading the model from Google Drive\n",
        "transfer_model2 = load_model('transfer_unfreeze_model.h5', custom_objects={    \n",
        "    \"get_precision\": get_precision,\n",
        "    \"get_recall\" : get_recall,\n",
        "    \"get_f1\" : get_f1})\n",
        "   \n",
        "predictions = transfer_model2.predict(valX)\n",
        "results = transfer_model2.evaluate(valX,valY)"
      ],
      "execution_count": null,
      "outputs": []
    },
    {
      "cell_type": "markdown",
      "metadata": {
        "id": "dJ7bzjQL9bdM"
      },
      "source": [
        "###3.3.4) Evaluating the model"
      ]
    },
    {
      "cell_type": "code",
      "metadata": {
        "id": "VryVjQymAga8"
      },
      "source": [
        "transfer_history = json.load(open(\"transfer_unfreeze_fhist.json\", 'r'))\n",
        "\n",
        "# Plot accuracy result\n",
        "plt.plot(transfer_history['acc'])\n",
        "plt.plot(transfer_history['val_acc'])\n",
        "plt.title('model accuracy plot')\n",
        "plt.ylabel('Accuracy')\n",
        "plt.xlabel('Epoch')\n",
        "plt.legend(['train', 'test'], loc='lower right')\n",
        "plt.show()\n",
        "\n",
        "# Plot loss result\n",
        "plt.plot(transfer_history['loss'])\n",
        "plt.plot(transfer_history['val_loss'])\n",
        "plt.title('model loss plot')\n",
        "plt.ylabel('Loss')\n",
        "plt.xlabel('Epoch')\n",
        "plt.legend(['train', 'test'], loc='upper right')\n",
        "plt.show()"
      ],
      "execution_count": null,
      "outputs": []
    },
    {
      "cell_type": "markdown",
      "metadata": {
        "id": "mFwfl8dCOuAh"
      },
      "source": [
        "#4) Segmentation Task"
      ]
    },
    {
      "cell_type": "markdown",
      "metadata": {
        "id": "2V-D7NcF5jya"
      },
      "source": [
        "##Downloads"
      ]
    },
    {
      "cell_type": "code",
      "metadata": {
        "id": "A0MVYoQf5i0M"
      },
      "source": [
        "use_pretrained_model=True\n",
        "\n",
        "#Loading all the saved models and history objects\n",
        "if(use_pretrained_model):\n",
        "  !wget -nc -O seg_scratch_model.h5 https://www.dropbox.com/s/tbiwy8rnbrgzbfa/model-segmentation-scratch?dl=0\n",
        "  !wget -nc -O seg_transfer_model.h5 https://www.dropbox.com/s/twdfcqu3zq5azkw/model-segmentation-transfer.h5?dl=0\n",
        "  !wget -nc -O seg_scratch_history.json https://www.dropbox.com/s/46bzqjcfe4q2y4c/seg_scratch_history.json?dl=0\n",
        "  !wget -nc -O seg_transfer_history.json https://www.dropbox.com/s/6xzr2ukonz0t579/seg_transfer_history.json?dl=0\n",
        "  \n"
      ],
      "execution_count": null,
      "outputs": []
    },
    {
      "cell_type": "markdown",
      "metadata": {
        "id": "VSqG3Pq-wL7v"
      },
      "source": [
        "## Preparing the data\n",
        "\n",
        "Prepare the data for object detection only, i.e. only images and masks, no labels. All pixels containing information on a class or border are counted as an object."
      ]
    },
    {
      "cell_type": "code",
      "metadata": {
        "id": "ajdkTpqLwczQ"
      },
      "source": [
        "# Prepare the data\n",
        "\n",
        "segtrainX = np.array(segment_train_frames)\n",
        "segtrainY = np.array(segment_train_labels)\n",
        "segvalX = np.array(segment_val_frames)\n",
        "segvalY = np.array(segment_val_labels)\n",
        "\n",
        "# Show example:\n",
        "print('Training set: ')\n",
        "rand_index = int(np.random.uniform(0, segtrainX.shape[0]-1))\n",
        "cv2_imshow(np.hstack((255*segtrainX[rand_index,:,:,:], segtrainY[rand_index,:,:,:])))\n",
        "\n",
        "# Convert labels for object segmentation\n",
        "segtrainY = (segtrainY.sum(axis=3) > 0).astype('uint8')[:,:,:,None]\n",
        "segvalY = (segvalY.sum(axis=3) > 0).astype('uint8')[:,:,:,None]\n",
        "\n",
        "# Show converted example:\n",
        "print('Converted label: ')\n",
        "#rand_index2= int(np.random.uniform(0, segtrainX.shape[0]-1)\n",
        "cv2_imshow(255*segtrainX[rand_index,:,:,:])\n",
        "cv2_imshow(255*segtrainY[rand_index,:,:,:])\n"
      ],
      "execution_count": null,
      "outputs": []
    },
    {
      "cell_type": "code",
      "metadata": {
        "id": "eztpLUbxWjv3"
      },
      "source": [
        "#Build image generator for data augmentation for segmentation\n",
        "\n",
        "from keras.preprocessing.image import ImageDataGenerator\n",
        "\n",
        "augSeg = ImageDataGenerator()\n",
        "#augSeg = ImageDataGenerator(horizontal_flip=True,\n",
        "#                            width_shift_range=0.15,\n",
        "#                            rotation_range=20, \n",
        "#                            height_shift_range=0.15,\n",
        "#                            shear_range=0.2,\n",
        "#                            zoom_range=0.1,\n",
        "#                            vertical_flip=True,\n",
        "#                            fill_mode=\"nearest\"\n",
        "#                            )\n",
        "\n",
        "# Show random example\n",
        "print('Original: ')\n",
        "cv2_imshow(255*segtrainX[rand_index,:,:,:])\n",
        "\n",
        "print('Augmented image example:')\n",
        "x = augSeg.random_transform(segtrainX[rand_index,:,:,:], seed=None)\n",
        "cv2_imshow(255*x)"
      ],
      "execution_count": null,
      "outputs": []
    },
    {
      "cell_type": "markdown",
      "metadata": {
        "id": "IutMJ2oMrobl"
      },
      "source": [
        "## 4.1) Model From Scratch\n",
        "\n",
        "First, a model is trained from scratch."
      ]
    },
    {
      "cell_type": "markdown",
      "metadata": {
        "id": "ODy0c4uSV0ff"
      },
      "source": [
        "###4.1.1) Create model\n",
        "\n",
        "The U-Net architecture is chosen for this task. This model has achieved good results in a variety of applications. Furthermore, it has done so in settings where few training data is available. As we only have 750 train images for the segmentation, this is beneficial here too.\n",
        "\n"
      ]
    },
    {
      "cell_type": "code",
      "metadata": {
        "id": "6eIrxSUlO30t"
      },
      "source": [
        "# Define model: \n",
        "\n",
        "# Source: https://github.com/zhixuhao/unet/\n",
        "\n",
        "import numpy as np \n",
        "import os\n",
        "import skimage.io as io\n",
        "import skimage.transform as trans\n",
        "import numpy as np\n",
        "from keras.models import *\n",
        "from keras.layers import *\n",
        "from keras.optimizers import *\n",
        "from keras.callbacks import *\n",
        "from keras import backend as K\n",
        "\n",
        "\n",
        "def unet(pretrained_weights = None, input_size = (224,224,3), output_channels = 1, l2_regularization=False):\n",
        "    inputs = Input(input_size)\n",
        "    conv1 = Conv2D(64, 3, activation = 'relu', padding = 'same', kernel_initializer = 'he_normal')(inputs)\n",
        "    conv1 = Conv2D(64, 3, activation = 'relu', padding = 'same', kernel_initializer = 'he_normal')(conv1)\n",
        "    pool1 = MaxPooling2D(pool_size=(2, 2))(conv1)\n",
        "    conv2 = Conv2D(128, 3, activation = 'relu', padding = 'same', kernel_initializer = 'he_normal')(pool1)\n",
        "    conv2 = Conv2D(128, 3, activation = 'relu', padding = 'same', kernel_initializer = 'he_normal')(conv2)\n",
        "    pool2 = MaxPooling2D(pool_size=(2, 2))(conv2)\n",
        "    conv3 = Conv2D(256, 3, activation = 'relu', padding = 'same', kernel_initializer = 'he_normal')(pool2)\n",
        "    conv3 = Conv2D(256, 3, activation = 'relu', padding = 'same', kernel_initializer = 'he_normal')(conv3)\n",
        "    pool3 = MaxPooling2D(pool_size=(2, 2))(conv3)\n",
        "    conv4 = Conv2D(512, 3, activation = 'relu', padding = 'same', kernel_initializer = 'he_normal')(pool3)\n",
        "    conv4 = Conv2D(512, 3, activation = 'relu', padding = 'same', kernel_initializer = 'he_normal')(conv4)\n",
        "    drop4 = Dropout(0.5)(conv4)\n",
        "    pool4 = MaxPooling2D(pool_size=(2, 2))(drop4)\n",
        "\n",
        "    conv5 = Conv2D(1024, 3, activation = 'relu', padding = 'same', kernel_initializer = 'he_normal')(pool4)\n",
        "    conv5 = Conv2D(1024, 3, activation = 'relu', padding = 'same', kernel_initializer = 'he_normal')(conv5)\n",
        "    drop5 = Dropout(0.5)(conv5)\n",
        "\n",
        "    up6 = Conv2D(512, 2, activation = 'relu', padding = 'same', kernel_initializer = 'he_normal')(UpSampling2D(size = (2,2))(drop5))\n",
        "    merge6 = concatenate([drop4,up6], axis = 3)\n",
        "    conv6 = Conv2D(512, 3, activation = 'relu', padding = 'same', kernel_initializer = 'he_normal')(merge6)\n",
        "    conv6 = Conv2D(512, 3, activation = 'relu', padding = 'same', kernel_initializer = 'he_normal')(conv6)\n",
        "\n",
        "    up7 = Conv2D(256, 2, activation = 'relu', padding = 'same', kernel_initializer = 'he_normal')(UpSampling2D(size = (2,2))(conv6))\n",
        "    merge7 = concatenate([conv3,up7], axis = 3)\n",
        "    conv7 = Conv2D(256, 3, activation = 'relu', padding = 'same', kernel_initializer = 'he_normal')(merge7)\n",
        "    conv7 = Conv2D(256, 3, activation = 'relu', padding = 'same', kernel_initializer = 'he_normal')(conv7)\n",
        "\n",
        "    up8 = Conv2D(128, 2, activation = 'relu', padding = 'same', kernel_initializer = 'he_normal')(UpSampling2D(size = (2,2))(conv7))\n",
        "    merge8 = concatenate([conv2,up8], axis = 3)\n",
        "    conv8 = Conv2D(128, 3, activation = 'relu', padding = 'same', kernel_initializer = 'he_normal')(merge8)\n",
        "    conv8 = Conv2D(128, 3, activation = 'relu', padding = 'same', kernel_initializer = 'he_normal')(conv8)\n",
        "\n",
        "    up9 = Conv2D(64, 2, activation = 'relu', padding = 'same', kernel_initializer = 'he_normal')(UpSampling2D(size = (2,2))(conv8))\n",
        "    merge9 = concatenate([conv1,up9], axis = 3)\n",
        "    conv9 = Conv2D(64, 3, activation = 'relu', padding = 'same', kernel_initializer = 'he_normal')(merge9)\n",
        "    conv9 = Conv2D(64, 3, activation = 'relu', padding = 'same', kernel_initializer = 'he_normal')(conv9)\n",
        "    #conv9 = Conv2D(2, 3, activation = 'relu', padding = 'same', kernel_initializer = 'he_normal')(conv9)\n",
        "    if l2_regularization:\n",
        "      conv10 = Conv2D(output_channels, 1, activation = 'sigmoid', activity_regularizer=tf.keras.regularizers.l2(0.01))(conv9)\n",
        "    else:\n",
        "      conv10 = Conv2D(output_channels, 1, activation = 'sigmoid')(conv9)\n",
        "\n",
        "    model = Model(input = inputs, output = conv10)\n",
        "    \n",
        "    #model.summary()\n",
        "\n",
        "    if(pretrained_weights):\n",
        "    \tmodel.load_weights(pretrained_weights)\n",
        "\n",
        "    return model"
      ],
      "execution_count": null,
      "outputs": []
    },
    {
      "cell_type": "code",
      "metadata": {
        "id": "rcTkMrToXXyk"
      },
      "source": [
        "# Create model\n",
        "\n",
        "smodel = unet(output_channels=1)\n",
        "\n",
        "\n",
        "# Illustrate initial result with random example (if needed):\n",
        "\n",
        "show_unet_example = True\n",
        "\n",
        "if show_unet_example:\n",
        "  rand_index = int(np.random.uniform(0, segtrainX.shape[0]-1))\n",
        "\n",
        "  mask = smodel.predict(segtrainX[rand_index][None,:,:,:])\n",
        "\n",
        "  cv2_imshow(255*segtrainX[rand_index,:,:,:])\n",
        "  cv2_imshow(255*segtrainY[rand_index,:,:,:])\n",
        "  cv2_imshow(255*mask[0])\n",
        "  cv2_imshow(255*(mask[0]>0.5).astype('float32'))\n"
      ],
      "execution_count": null,
      "outputs": []
    },
    {
      "cell_type": "markdown",
      "metadata": {
        "id": "omn6e1wUXoyq"
      },
      "source": [
        "###4.1.2) Compile and train model\n",
        "\n",
        "Then, the model is compiled and the training settings are defined. After the model is trained, a random prediction as sanity test."
      ]
    },
    {
      "cell_type": "code",
      "metadata": {
        "id": "fRSGD-T8XniC"
      },
      "source": [
        "from keras.metrics import Precision, Recall, MeanIoU\n",
        "\n",
        "#Setting the hyperparameter values/training settings\n",
        "batch_size = 16\n",
        "epochs = 200\n",
        "\n",
        "# Custom metric function for Dice\n",
        "def dice_coef(y_true, y_pred, smooth=1):\n",
        "  intersection = K.sum(y_true * y_pred, axis=[1,2,3])\n",
        "  union = K.sum(y_true, axis=[1,2,3]) + K.sum(y_pred, axis=[1,2,3])\n",
        "  dice = K.mean((2. * intersection + smooth)/(union + smooth), axis=0)\n",
        "  return dice\n",
        "\n",
        "METRICS = [ \n",
        "      BinaryAccuracy(name='accuracy'),\n",
        "      Precision(name='precision'),\n",
        "      Recall(name='recall'),\n",
        "      AUC(name='auc'),\n",
        "      MeanIoU(name='iou', num_classes=2),\n",
        "      dice_coef\n",
        "]\n",
        "\n",
        "earlystopper = EarlyStopping(patience=20,\n",
        "                             verbose=1)\n",
        "\n",
        "checkpointer = ModelCheckpoint(filepath='model-segmentation-scratch',\n",
        "                               verbose=1,\n",
        "                               save_best_only=True)\n",
        "\n",
        "\n",
        "#Compile model and prepare for training\n",
        "#Training rate needs to be quite small! < 1e-04\n",
        "smodel.compile(optimizer = Adam(lr = 1e-05), loss = 'binary_crossentropy', metrics = METRICS)\n",
        "\n",
        "#smodel.summary()\n"
      ],
      "execution_count": null,
      "outputs": []
    },
    {
      "cell_type": "code",
      "metadata": {
        "id": "1gNg3R2WX8Cq"
      },
      "source": [
        "# Resume = True if earlier training needs to be resumed from local save (not Drive)\n",
        "\n",
        "savepath = '/content/model-segmentation-scratch'\n",
        "resume = False\n",
        "\n",
        "# Load model if necessary\n",
        "\n",
        "if resume:\n",
        "  smodel.load_weights(savepath)"
      ],
      "execution_count": null,
      "outputs": []
    },
    {
      "cell_type": "code",
      "metadata": {
        "id": "kbPu4PQ7YJFK"
      },
      "source": [
        "# Fit/train model\n",
        "# (Training takes about 30 secs per epoch)\n",
        "\n",
        "if(use_pretrained_model==False):\n",
        "  results = smodel.fit(augSeg.flow(segtrainX, segtrainY, batch_size=batch_size),\n",
        "                      validation_data=(segvalX, segvalY),\n",
        "                      validation_steps = len(segvalX),\n",
        "                      epochs=epochs, \n",
        "                      callbacks=[earlystopper,checkpointer],\n",
        "                      steps_per_epoch=len(segtrainX) // batch_size,\n",
        "                      shuffle=True\n",
        "                      )"
      ],
      "execution_count": null,
      "outputs": []
    },
    {
      "cell_type": "code",
      "metadata": {
        "id": "PCvmT0FVLecK"
      },
      "source": [
        "# Load model from Dropbox instead of training it\n",
        "#!pip3 install keras\n",
        "#from keras.models import load_weights\n",
        "if(use_pretrained_model):\n",
        "  print(\"Loading pretrained model weights\")\n",
        "  smodel.load_weights('seg_scratch_model.h5') #, custom_objects={'accuracy': BinaryAccuracy})\n"
      ],
      "execution_count": null,
      "outputs": []
    },
    {
      "cell_type": "code",
      "metadata": {
        "id": "v7eWklaFYRI8"
      },
      "source": [
        "# Check random model output:\n",
        "\n",
        "rand_index = int(np.random.uniform(0, segvalX.shape[0]-1))\n",
        "\n",
        "mask = smodel.predict(segvalX[rand_index][None,:,:,:])\n",
        "\n",
        "\n",
        "\n",
        "cv2_imshow(255*segvalX[rand_index,:,:,:])\n",
        "cv2_imshow(255*segvalY[rand_index,:,:,:])\n",
        "\n",
        "print('Output:')\n",
        "cv2_imshow(255*mask[0])\n",
        "\n",
        "print('Binary:')\n",
        "cv2_imshow(255*(mask[0]>0.5).astype('uint8'))\n",
        "print(mask.max())\n"
      ],
      "execution_count": null,
      "outputs": []
    },
    {
      "cell_type": "markdown",
      "metadata": {
        "id": "-fWEZ6PPYYah"
      },
      "source": [
        "###4.1.3) Save model\n",
        "\n",
        "Finally, after training the model is saved to Drive. This model can be used for the evaluation."
      ]
    },
    {
      "cell_type": "code",
      "metadata": {
        "id": "h_WCscXuYXN_"
      },
      "source": [
        "#Saving the model to Google Drive\n",
        "if(use_pretrained_model==False):\n",
        "  from google.colab import drive\n",
        "  drive.mount('/content/gdrive',force_remount=True)\n",
        "  smodel_save_name = 'model-segmentation-scratch.h5'\n",
        "  path = F\"/content/gdrive/My Drive/{smodel_save_name}\" \n",
        "  wpath = F\"/content/gdrive/My Drive/{smodel_save_name}\" \n",
        "  #fp = open(path,\"w\")\n",
        "  #fp.write('hello')\n",
        "  #fp.close()\n",
        "  fp = open(wpath,\"w\")\n",
        "  fp.write('hello')\n",
        "  fp.close()\n",
        "  smodel.save_weights(wpath)"
      ],
      "execution_count": null,
      "outputs": []
    },
    {
      "cell_type": "code",
      "metadata": {
        "id": "3oDB5etxYfBS"
      },
      "source": [
        "if(use_pretrained_model==False):\n",
        "  #Loading the model from Google Drive\n",
        "  smodel.load_weights(seg_scratch_model)\n",
        "  #smodel.load_weights(wpath)\n",
        "  \n",
        "predictions = smodel.predict(segvalX)\n",
        "results = smodel.evaluate(segvalX,segvalY)\n",
        "print(results)"
      ],
      "execution_count": null,
      "outputs": []
    },
    {
      "cell_type": "markdown",
      "metadata": {
        "id": "sarbdGucRKy9"
      },
      "source": [
        "###4.1.4) Evaluating the model"
      ]
    },
    {
      "cell_type": "markdown",
      "metadata": {
        "id": "PYEhMDOLrwnk"
      },
      "source": [
        "## 4.2) Transfer Learning"
      ]
    },
    {
      "cell_type": "markdown",
      "metadata": {
        "id": "AM2AbjB3KRjW"
      },
      "source": [
        "Using the same architecture, but initializing the same model with weights trained on the ImageNet dataset."
      ]
    },
    {
      "cell_type": "code",
      "metadata": {
        "id": "YHFHTLDHcNnR"
      },
      "source": [
        "!pip install git+https://github.com/qubvel/segmentation_models"
      ],
      "execution_count": null,
      "outputs": []
    },
    {
      "cell_type": "markdown",
      "metadata": {
        "id": "qXoaGpAxd6qe"
      },
      "source": [
        "### 4.3.1) Compiling the model"
      ]
    },
    {
      "cell_type": "code",
      "metadata": {
        "id": "1l1T90d2d21e"
      },
      "source": [
        "#https://segmentation-models.readthedocs.io/en/latest/tutorial.html#models-and-backbones\n",
        "from segmentation_models import Unet\n",
        "from segmentation_models.utils import set_trainable\n",
        "from keras.metrics import MeanIoU\n",
        "\n",
        "\n",
        "# Custom metric function for Dice\n",
        "def dice_coef(y_true, y_pred, smooth=1):\n",
        "  intersection = K.sum(y_true * y_pred, axis=[1,2,3])\n",
        "  union = K.sum(y_true, axis=[1,2,3]) + K.sum(y_pred, axis=[1,2,3])\n",
        "  dice = K.mean((2. * intersection + smooth)/(union + smooth), axis=0)\n",
        "  return dice\n",
        "\n",
        "#Setting the hyperparameter values/training settings\n",
        "batch_size = 16\n",
        "epochs = 100\n",
        "\n",
        "METRICS = [ \n",
        "      BinaryAccuracy(name='accuracy'),\n",
        "      Precision(name='precision'),\n",
        "      Recall(name='recall'),\n",
        "      AUC(name='auc'),\n",
        "      MeanIoU(name='iou', num_classes=2),\n",
        "      dice_coef\n",
        "]\n",
        "\n",
        "earlystopper = EarlyStopping(patience=20,\n",
        "                             verbose=1)\n",
        "checkpointer = ModelCheckpoint(filepath='model-segmentation-transfer',\n",
        "                               verbose=1,\n",
        "                               save_best_only=True)\n",
        "\n",
        "# Create model\n",
        "# using a preset Unet model with ImageNet encoder weights\n",
        "tmodel = Unet(backbone_name='resnet50', encoder_weights='imagenet', encoder_freeze=True, input_shape=(224,224,3))\n",
        "tmodel.compile(optimizer = Adam(lr = 1e-03), loss = 'binary_crossentropy', metrics = METRICS)\n",
        "\n",
        "#tmodel.summary()\n",
        "\n"
      ],
      "execution_count": null,
      "outputs": []
    },
    {
      "cell_type": "code",
      "metadata": {
        "id": "a-QvMIVpEN-4"
      },
      "source": [
        "# Illustrate initial result with random example (if needed):\n",
        "\n",
        "show_unet_example = False\n",
        "\n",
        "if show_unet_example:\n",
        "  rand_index = int(np.random.uniform(0, segtrainX.shape[0]-1))\n",
        "\n",
        "  tmask = tmodel.predict(segtrainX[rand_index][None,:,:,:])\n",
        "\n",
        "  cv2_imshow(255*segtrainX[rand_index,:,:,:])\n",
        "  cv2_imshow(255*segtrainY[rand_index,:,:,:])\n",
        "  cv2_imshow(255*tmask[0])"
      ],
      "execution_count": null,
      "outputs": []
    },
    {
      "cell_type": "markdown",
      "metadata": {
        "id": "IxFC4dY90BlG"
      },
      "source": [
        "### 4.3.2) Training the model"
      ]
    },
    {
      "cell_type": "code",
      "metadata": {
        "id": "x99iWAxg0NVp"
      },
      "source": [
        "if(use_pretrained_model==False):\n",
        "  results = tmodel.fit(augSeg.flow(segtrainX, segtrainY, batch_size=batch_size),\n",
        "                      validation_data=(segvalX, segvalY),\n",
        "                      validation_steps = len(segvalX),\n",
        "                      epochs=30, \n",
        "                      callbacks=[earlystopper,checkpointer],\n",
        "                      steps_per_epoch=len(segtrainX) // batch_size,\n",
        "                      shuffle=True\n",
        "                      )"
      ],
      "execution_count": null,
      "outputs": []
    },
    {
      "cell_type": "markdown",
      "metadata": {
        "id": "kFG6edn-KnBY"
      },
      "source": [
        "###4.3.3) Save model"
      ]
    },
    {
      "cell_type": "code",
      "metadata": {
        "id": "eNYyzWEWPbb1"
      },
      "source": [
        "if(use_pretrained_model==False):\n",
        "  #Saving the model to Google Drive\n",
        "  from google.colab import drive\n",
        "  drive.mount('/content/gdrive',force_remount=True)\n",
        "  tmodel_save_name = 'model-segmentation-transfer.h5'\n",
        "  path = F\"/content/gdrive/My Drive/{tmodel_save_name}\" \n",
        "  #fp = open(path,\"w\")\n",
        "  #fp.write('hello')\n",
        "  #fp.close()\n",
        "  #tmodel.save(path)\n",
        "  wpath = F\"/content/gdrive/My Drive/{tmodel_save_name}\" \n",
        "  #fp = open(path,\"w\")\n",
        "  #fp.write('hello')\n",
        "  #fp.close()\n",
        "  fp = open(wpath,\"w\")\n",
        "  fp.write('hello')\n",
        "  fp.close()\n",
        "  tmodel.save_weights(wpath)"
      ],
      "execution_count": null,
      "outputs": []
    },
    {
      "cell_type": "code",
      "metadata": {
        "id": "pu3GIQvhPx9E"
      },
      "source": [
        "#Loading the model from Google Drive\n",
        "#tmodel = load_model(path, custom_objects={\"weighted_loss\": get_weighted_loss(class_weights)})\n",
        "#tmodel = load_model(path)\n",
        "#predictions = tmodel.predict(segvalX)\n",
        "#results = tmodel.evaluate(segvalX,segvalY)\n",
        "\n",
        "#Loading the model from Google Drive\n",
        "#smodel = load_model(path, custom_objects={'accuracy': BinaryAccuracy})\n",
        "\n",
        "if(use_pretrained_model==True):\n",
        "  tmodel.load_weights('seg_transfer_model.h5')\n",
        "else:\n",
        "  tmodel.load_weights(wpath)\n",
        "\n",
        "predictions = tmodel.predict(segvalX)\n",
        "results = tmodel.evaluate(segvalX,segvalY)\n",
        "print(results)"
      ],
      "execution_count": null,
      "outputs": []
    },
    {
      "cell_type": "code",
      "metadata": {
        "id": "Lp8Az75FLpS_"
      },
      "source": [
        "# Check random model output:\n",
        "\n",
        "rand_index = int(np.random.uniform(0, segvalX.shape[0]-1))\n",
        "\n",
        "mask = tmodel.predict(segvalX[rand_index][None,:,:,:])\n",
        "\n",
        "\n",
        "\n",
        "cv2_imshow(255*segvalX[rand_index,:,:,:])\n",
        "cv2_imshow(255*segvalY[rand_index,:,:,:])\n",
        "\n",
        "print('Output:')\n",
        "cv2_imshow(255*mask[0])\n",
        "\n",
        "print('Binary:')\n",
        "cv2_imshow(255*(mask[0]>0.5).astype('uint8'))\n",
        "print(mask.max())"
      ],
      "execution_count": null,
      "outputs": []
    },
    {
      "cell_type": "markdown",
      "metadata": {
        "id": "yHV8gjVIQcgp"
      },
      "source": [
        "Using a pretrained weight model shows significantly better results and faster improvements in a limited number of epochs. "
      ]
    },
    {
      "cell_type": "markdown",
      "metadata": {
        "id": "vRQvUF2izavJ"
      },
      "source": [
        "###4.3.4) Evaluating the model"
      ]
    },
    {
      "cell_type": "code",
      "metadata": {
        "id": "NcmNl9npzZP9"
      },
      "source": [
        "seg_transfer_history = json.load(open(\"seg_transfer_history.json\", 'r'))\n",
        "\n",
        "# Plot accuracy result\n",
        "plt.plot(seg_transfer_history['accuracy'])\n",
        "plt.plot(seg_transfer_history['val_accuracy'])\n",
        "plt.title('Model accuracy plot')\n",
        "plt.ylabel('Accuracy')\n",
        "plt.xlabel('Epoch')\n",
        "plt.legend(['train', 'test'], loc='lower right')\n",
        "plt.show()\n",
        "\n",
        "# Plot loss result\n",
        "plt.plot(seg_transfer_history['loss'])\n",
        "plt.plot(seg_transfer_history['val_loss'])\n",
        "plt.title('model loss plot')\n",
        "plt.ylabel('Loss')\n",
        "plt.xlabel('Epoch')\n",
        "plt.legend(['train', 'test'], loc='upper right')\n",
        "plt.show()"
      ],
      "execution_count": null,
      "outputs": []
    },
    {
      "cell_type": "markdown",
      "metadata": {
        "id": "xX_YUr-UiVLH"
      },
      "source": [
        "# Confusing the System\n",
        "\n",
        "In this part, an autoencoder will be trained to generate a pertubation. The aim is that adding this pertubation to an image will lead to the classifier from before classifying it incorrectly. \n"
      ]
    },
    {
      "cell_type": "markdown",
      "metadata": {
        "id": "RzhykpgAmnuU"
      },
      "source": [
        "Questions that need to be answered in this section:\n",
        "\n",
        "1. Provide a comparative analysis where you study the difference between the perturbations that were generated using the two different training sets, do you notice a difference in overall magnitude? \n",
        "\n",
        "2. Do you notice a difference in how well the adversary can fool the model under attack? Try to explain your observations. \n",
        "\n",
        "3. Furthermore, explain your overall approach, design choices etc in your own words (feel free to use math notation, explain objective, labels, network, ...). \n",
        "\n",
        "4. Is this a realistic attack setup? Can it be used in a “real world” scenario? If so, how/when? \n",
        "\n",
        "5. Was the adversary successful? Are the images still recognisable for a human observer? Does this mean that your classifier hθc from assignment 3.1 is now unreliable? \n",
        "\n",
        "6. What could we do to increase the robustness of a model under attack in general? Visualise some of your most successful cases (original image, perturbation, perturbed images)."
      ]
    },
    {
      "cell_type": "markdown",
      "metadata": {
        "id": "exqftbe028zC"
      },
      "source": [
        "## Modify the data"
      ]
    },
    {
      "cell_type": "code",
      "metadata": {
        "id": "vRfGVs4fUXYE"
      },
      "source": [
        "#Modify data to train misclassification:\n",
        "#Trick the model into believing all class 0 are class 1\n",
        "#All aeroplanes are labeled as bicycles\n",
        "\n",
        "trainYmod = trainY\n",
        "idsToReplace = np.where(trainYmod[:,0] == 1)\n",
        "trainYmod[idsToReplace[0],0] = 0\n",
        "trainYmod[idsToReplace[0],1] = 1\n",
        "\n",
        "valYmod = valY\n",
        "idsToReplace = np.where(valYmod[:,0] == 1)\n",
        "valYmod[idsToReplace[0],0] = 0\n",
        "valYmod[idsToReplace[0],1] = 1\n",
        "\n",
        "#No more left in this class\n",
        "#trainYmod[trainYmod[:,0] == 1].shape"
      ],
      "execution_count": null,
      "outputs": []
    },
    {
      "cell_type": "code",
      "metadata": {
        "id": "TuwyTm37sj83"
      },
      "source": [
        "#Exploratory data analysis with new data\n",
        "\n",
        "#Count the number of times a particular class label appears in the\n",
        "#training and validation set of the classification task\n",
        "count_train = np.sum((trainYmod), axis=0)\n",
        "count_val = np.sum((valY), axis=0)\n",
        "\n",
        "#Create a plot of class label vs number of occurrences for the training set\n",
        "sns.set(font_scale = 1)\n",
        "plt.figure(figsize=(20,8))\n",
        "ax = sns.barplot(class_list, count_train)\n",
        "\n",
        "plt.title(\"Training Set: Target Class Distribution\", fontsize=20)\n",
        "plt.ylabel('Number of occurrences', fontsize=12)\n",
        "plt.xlabel('Target Class ', fontsize=12)\n",
        "\n",
        "#adding the text labels\n",
        "rects = ax.patches\n",
        "labels = count_train\n",
        "for rect, label in zip(rects, labels):\n",
        "    height = rect.get_height()\n",
        "    ax.text(rect.get_x() + rect.get_width()/2, height + 5, label, ha='center', va='bottom', fontsize=18)\n",
        "plt.show()\n",
        "\n",
        "#Create a plot of class label vs number of occurrences for the validation set\n",
        "sns.set(font_scale = 1)\n",
        "plt.figure(figsize=(20,8))\n",
        "ax= sns.barplot(class_list, count_val)\n",
        "\n",
        "plt.title(\"Validation Set: Target Class Distribution\", fontsize=20)\n",
        "plt.ylabel('Number of occurrences', fontsize=12)\n",
        "plt.xlabel('Target Class ', fontsize=12)\n",
        "\n",
        "#adding the text labels\n",
        "rects = ax.patches\n",
        "labels = count_val\n",
        "for rect, label in zip(rects, labels):\n",
        "    height = rect.get_height()\n",
        "    ax.text(rect.get_x() + rect.get_width()/2, height + 5, label, ha='center', va='bottom', fontsize=18)\n",
        "plt.show()\n"
      ],
      "execution_count": null,
      "outputs": []
    },
    {
      "cell_type": "markdown",
      "metadata": {
        "id": "UtmkABsd2_1X"
      },
      "source": [
        "## Make the adversarial model"
      ]
    },
    {
      "cell_type": "code",
      "metadata": {
        "id": "N5z5s_KcS8TK"
      },
      "source": [
        "#Make encoder and freeze the classification model\n",
        "encoder = unet(output_channels = 3, l2_regularization=True) # Noise per input channel\n",
        "\n",
        "classifier = clone_model(transfer_model)\n",
        "for layer in classifier.layers:\n",
        "        layer.trainable = False\n",
        "\n",
        "#Design new network:\n",
        "#Feed image to UNet to generate noise\n",
        "\n",
        "img = Input((224,224,3))\n",
        "perturbation = encoder(img)\n",
        "#perturbation = Lambda(lambda x: 0*x)(perturbation)\n",
        "\n",
        "img_distorted = Add()([img, perturbation])\n",
        "\n",
        "#Clip image between 0 and 255\n",
        "img_distorted = Lambda(lambda x: K.clip(x, 0, 255))(img_distorted)\n",
        "\n",
        "labels = classifier(img_distorted)\n",
        "#labels = classifier(img)\n",
        "print(type(labels))"
      ],
      "execution_count": null,
      "outputs": []
    },
    {
      "cell_type": "code",
      "metadata": {
        "id": "f7hCOoa834qs"
      },
      "source": [
        "# Make custom loss combining binary crossentropy with L2 norm of output\n",
        "'''\n",
        "def advloss(perturbation, y_true, y_pred):\n",
        "  bceloss = K.binary_crossentropy(y_true, y_pred)\n",
        "  norm = K.l2_normalize(perturbation)\n",
        "\n",
        "  return bceloss + norm\n",
        "'''"
      ],
      "execution_count": null,
      "outputs": []
    },
    {
      "cell_type": "code",
      "metadata": {
        "id": "E_sxotIQ33oz"
      },
      "source": [
        "#Define and compile model (similar to classification)\n",
        "\n",
        "advmodel = Model(inputs = img, outputs = labels)\n",
        "\n",
        "callbacks = [EarlyStopping(monitor='val_accuracy', patience=5, mode='max'),\n",
        "             ModelCheckpoint(filepath='adversarial_model.h5', monitor='val_accuracy', save_best_only=True)]\n",
        "\n",
        "\n",
        "advmodel.compile(optimizer = Adam(lr = 1e-03), loss=\"binary_crossentropy\",\n",
        "               metrics=['accuracy', get_precision, get_recall, get_f1])\n",
        "\n",
        "#advmodel.summary()"
      ],
      "execution_count": null,
      "outputs": []
    },
    {
      "cell_type": "code",
      "metadata": {
        "id": "v-68228dxtPV"
      },
      "source": [
        "# Training settings:\n",
        "\n",
        "# Batch_size cannot be too big for memory reasons\n",
        "batch_size = 16\n",
        "num_classes = 20\n",
        "epochs = 150"
      ],
      "execution_count": null,
      "outputs": []
    },
    {
      "cell_type": "code",
      "metadata": {
        "id": "pls5Y3o2WIGN"
      },
      "source": [
        "#Training the model (with modified data)\n",
        "\n",
        "adv_train = advmodel.fit_generator(aug.flow(trainX, trainYmod, batch_size=batch_size),\n",
        "                    steps_per_epoch=len(trainX) // 32,\n",
        "                    #class_weight=class_weights,\n",
        "                    epochs=epochs,\n",
        "                    verbose=1,\n",
        "                    validation_data=(valX, valYmod),\n",
        "                    callbacks=callbacks,\n",
        "                    shuffle=True)"
      ],
      "execution_count": null,
      "outputs": []
    },
    {
      "cell_type": "code",
      "metadata": {
        "id": "9lb7eIGrAzim"
      },
      "source": [
        "#Saving the model to Google Drive\n",
        "from google.colab import drive.............\n",
        "drive.mount('/content/gdrive',force_remount=True)\n",
        "smodel_save_name = 'model-adversarial'\n",
        "path = F\"/content/gdrive/My Drive/{smodel_save_name}\" \n",
        "fp = open(path,\"w\")\n",
        "fp.write('hello')\n",
        "fp.close()\n",
        "smodel.save(path)"
      ],
      "execution_count": null,
      "outputs": []
    },
    {
      "cell_type": "code",
      "metadata": {
        "id": "XRSE8bHCA4vl"
      },
      "source": [
        "#Loading the model from Google Drive\n",
        "advmodel = load_model(path, custom_objects={\"weighted_loss\": get_weighted_loss(class_weights)})\n",
        "predictions = advmodel.predict(trainX)\n",
        "results = advmodel.evaluate(trainX,trainYmod)\n"
      ],
      "execution_count": null,
      "outputs": []
    },
    {
      "cell_type": "markdown",
      "metadata": {
        "id": "H35yn4WznB2p"
      },
      "source": [
        "# Discussion\n",
        "\n",
        "1. Finally, take some time to reflect on what you have learned in the two assignments of this final project. We don’t expect that you do a full literature study on these tasks but think critically about what you did and the results that you achieved. \n",
        "\n",
        "2. Did your classification and segmentation networks perform well? \n",
        "\n",
        "3. Has your adversary reached its goal? \n",
        "\n",
        "4. What would you do differently if you had some more time? Where would you spend your time on to improve your results? \n",
        "\n",
        "5. What are the limitations of your models? \n",
        "\n",
        "6. Are they ready to be deployed in a ‘real world’ setting? \n",
        "\n",
        "Feel free to add any other critical reflections you might think of.\n"
      ]
    }
  ]
}